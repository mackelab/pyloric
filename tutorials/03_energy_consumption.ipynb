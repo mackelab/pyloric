{
 "cells": [
  {
   "cell_type": "markdown",
   "metadata": {},
   "source": [
    "## Simulating at higher temperatures and setting $Q_{10}$ values"
   ]
  },
  {
   "cell_type": "code",
   "execution_count": 2,
   "metadata": {},
   "outputs": [],
   "source": [
    "%load_ext autoreload\n",
    "%autoreload 2"
   ]
  },
  {
   "cell_type": "code",
   "execution_count": 3,
   "metadata": {},
   "outputs": [],
   "source": [
    "import pandas as pd\n",
    "\n",
    "pd.set_option(\"display.max_rows\", 10)\n",
    "pd.set_option(\"display.max_columns\", 100)\n",
    "pd.set_option(\"display.width\", 2000)\n",
    "pd.set_option(\"display.float_format\", \"{:,.4f}\".format)"
   ]
  },
  {
   "cell_type": "code",
   "execution_count": 4,
   "metadata": {},
   "outputs": [],
   "source": [
    "from pyloric import create_prior, simulate, stats\n",
    "from pyloric.utils import show_traces, energy_of_membrane, energy_of_synapse\n",
    "import torch"
   ]
  },
  {
   "cell_type": "markdown",
   "metadata": {},
   "source": [
    "### Create prior"
   ]
  },
  {
   "cell_type": "code",
   "execution_count": 5,
   "metadata": {},
   "outputs": [
    {
     "data": {
      "text/html": [
       "<div>\n",
       "<style scoped>\n",
       "    .dataframe tbody tr th:only-of-type {\n",
       "        vertical-align: middle;\n",
       "    }\n",
       "\n",
       "    .dataframe tbody tr th {\n",
       "        vertical-align: top;\n",
       "    }\n",
       "\n",
       "    .dataframe thead tr th {\n",
       "        text-align: left;\n",
       "    }\n",
       "</style>\n",
       "<table border=\"1\" class=\"dataframe\">\n",
       "  <thead>\n",
       "    <tr>\n",
       "      <th></th>\n",
       "      <th colspan=\"8\" halign=\"left\">AB/PD</th>\n",
       "      <th colspan=\"8\" halign=\"left\">LP</th>\n",
       "      <th colspan=\"8\" halign=\"left\">PY</th>\n",
       "      <th colspan=\"7\" halign=\"left\">Synapses</th>\n",
       "    </tr>\n",
       "    <tr>\n",
       "      <th></th>\n",
       "      <th>Na</th>\n",
       "      <th>CaT</th>\n",
       "      <th>CaS</th>\n",
       "      <th>A</th>\n",
       "      <th>KCa</th>\n",
       "      <th>Kd</th>\n",
       "      <th>H</th>\n",
       "      <th>Leak</th>\n",
       "      <th>Na</th>\n",
       "      <th>CaT</th>\n",
       "      <th>CaS</th>\n",
       "      <th>A</th>\n",
       "      <th>KCa</th>\n",
       "      <th>Kd</th>\n",
       "      <th>H</th>\n",
       "      <th>Leak</th>\n",
       "      <th>Na</th>\n",
       "      <th>CaT</th>\n",
       "      <th>CaS</th>\n",
       "      <th>A</th>\n",
       "      <th>KCa</th>\n",
       "      <th>Kd</th>\n",
       "      <th>H</th>\n",
       "      <th>Leak</th>\n",
       "      <th>AB-LP</th>\n",
       "      <th>PD-LP</th>\n",
       "      <th>AB-PY</th>\n",
       "      <th>PD-PY</th>\n",
       "      <th>LP-PD</th>\n",
       "      <th>LP-PY</th>\n",
       "      <th>PY-LP</th>\n",
       "    </tr>\n",
       "  </thead>\n",
       "  <tbody>\n",
       "    <tr>\n",
       "      <th>0</th>\n",
       "      <td>458.7803</td>\n",
       "      <td>0.7269</td>\n",
       "      <td>5.6700</td>\n",
       "      <td>32.4157</td>\n",
       "      <td>13.6989</td>\n",
       "      <td>90.7140</td>\n",
       "      <td>0.0024</td>\n",
       "      <td>0.0027</td>\n",
       "      <td>138.5559</td>\n",
       "      <td>1.1557</td>\n",
       "      <td>2.8209</td>\n",
       "      <td>44.1501</td>\n",
       "      <td>6.1972</td>\n",
       "      <td>100.9982</td>\n",
       "      <td>0.0440</td>\n",
       "      <td>0.0210</td>\n",
       "      <td>564.8376</td>\n",
       "      <td>2.4631</td>\n",
       "      <td>3.0317</td>\n",
       "      <td>33.4177</td>\n",
       "      <td>3.7200</td>\n",
       "      <td>120.6760</td>\n",
       "      <td>0.0477</td>\n",
       "      <td>0.0278</td>\n",
       "      <td>-12.5681</td>\n",
       "      <td>-16.8734</td>\n",
       "      <td>-8.3747</td>\n",
       "      <td>-18.1356</td>\n",
       "      <td>-16.2665</td>\n",
       "      <td>-13.3063</td>\n",
       "      <td>-18.0895</td>\n",
       "    </tr>\n",
       "  </tbody>\n",
       "</table>\n",
       "</div>"
      ],
      "text/plain": [
       "     AB/PD                                                           LP                                                           PY                                                     Synapses                                                     \n",
       "        Na    CaT    CaS       A     KCa      Kd      H   Leak       Na    CaT    CaS       A    KCa       Kd      H   Leak       Na    CaT    CaS       A    KCa       Kd      H   Leak    AB-LP    PD-LP   AB-PY    PD-PY    LP-PD    LP-PY    PY-LP\n",
       "0 458.7803 0.7269 5.6700 32.4157 13.6989 90.7140 0.0024 0.0027 138.5559 1.1557 2.8209 44.1501 6.1972 100.9982 0.0440 0.0210 564.8376 2.4631 3.0317 33.4177 3.7200 120.6760 0.0477 0.0278 -12.5681 -16.8734 -8.3747 -18.1356 -16.2665 -13.3063 -18.0895"
      ]
     },
     "execution_count": 5,
     "metadata": {},
     "output_type": "execute_result"
    }
   ],
   "source": [
    "prior = create_prior()\n",
    "_ = torch.manual_seed(2)\n",
    "p = prior.sample((1,))\n",
    "p"
   ]
  },
  {
   "cell_type": "markdown",
   "metadata": {},
   "source": [
    "### Simulate and keep track of energy consumption"
   ]
  },
  {
   "cell_type": "code",
   "execution_count": 6,
   "metadata": {},
   "outputs": [],
   "source": [
    "simulation_output = simulate(p.loc[0], track_energy=True, seed=1)"
   ]
  },
  {
   "cell_type": "markdown",
   "metadata": {},
   "source": [
    "### Visualize voltage trace"
   ]
  },
  {
   "cell_type": "code",
   "execution_count": 7,
   "metadata": {},
   "outputs": [
    {
     "data": {
      "image/png": "[encoded data removed]",
      "text/plain": [
       "<Figure size 432x216 with 3 Axes>"
      ]
     },
     "metadata": {
      "needs_background": "light"
     },
     "output_type": "display_data"
    }
   ],
   "source": [
    "_ = show_traces(simulation_output)"
   ]
  },
  {
   "cell_type": "markdown",
   "metadata": {},
   "source": [
    "### Visualize energy consumption"
   ]
  },
  {
   "cell_type": "code",
   "execution_count": 8,
   "metadata": {},
   "outputs": [
    {
     "data": {
      "image/png": "[encoded data removed]",
      "text/plain": [
       "<Figure size 432x216 with 3 Axes>"
      ]
     },
     "metadata": {
      "needs_background": "light"
     },
     "output_type": "display_data"
    }
   ],
   "source": [
    "_ = show_traces(simulation_output, key='energy')"
   ]
  },
  {
   "cell_type": "markdown",
   "metadata": {},
   "source": [
    "### Simulate again. This time, track all conductances."
   ]
  },
  {
   "cell_type": "code",
   "execution_count": 19,
   "metadata": {},
   "outputs": [],
   "source": [
    "simulation_output = simulate(p.loc[0], track_currents=True, track_energy=True, seed=1)"
   ]
  },
  {
   "cell_type": "code",
   "execution_count": 20,
   "metadata": {},
   "outputs": [
    {
     "name": "stdout",
     "output_type": "stream",
     "text": [
      "Shape of membrane_conductances (3, 8, 440000)\n",
      "Shape of synaptic_conductances (7, 440000)\n",
      "Shape of reversal_calcium (3, 440000)\n"
     ]
    }
   ],
   "source": [
    "membrane_conductances = simulation_output['membrane_conds']\n",
    "synaptic_conductances = simulation_output['synaptic_conds']\n",
    "reversal_calcium = simulation_output['reversal_calcium']\n",
    "\n",
    "print('Shape of membrane_conductances', membrane_conductances.shape)\n",
    "print('Shape of synaptic_conductances', synaptic_conductances.shape)\n",
    "print('Shape of reversal_calcium', reversal_calcium.shape)"
   ]
  },
  {
   "cell_type": "markdown",
   "metadata": {},
   "source": [
    "### Calculate the energy per second of each current\n",
    "$W(t) = I \\cdot U = g \\cdot (V - V_{\\text{rev}})^2 = \\text{... nJ/s}$"
   ]
  },
  {
   "cell_type": "code",
   "execution_count": 21,
   "metadata": {},
   "outputs": [],
   "source": [
    "# Reversal potentials.\n",
    "v_r_na = 50\n",
    "v_r_k = -80\n",
    "v_r_h = -20\n",
    "v_r_leak = -50\n",
    "voltage = simulation_output['voltage']"
   ]
  },
  {
   "cell_type": "code",
   "execution_count": 22,
   "metadata": {},
   "outputs": [],
   "source": [
    "E_na = membrane_conductances[:, 0, :] * (voltage - v_r_na)**2"
   ]
  },
  {
   "cell_type": "code",
   "execution_count": 23,
   "metadata": {},
   "outputs": [
    {
     "data": {
      "image/png": "[encoded data removed]",
      "text/plain": [
       "<Figure size 432x216 with 3 Axes>"
      ]
     },
     "metadata": {
      "needs_background": "light"
     },
     "output_type": "display_data"
    }
   ],
   "source": [
    "_ = show_traces(simulation_output, traces=E_na, title='Sodium W [nJ/s]')"
   ]
  },
  {
   "cell_type": "markdown",
   "metadata": {},
   "source": [
    "### Compute all other membrane currents and visualize their sum\n",
    "For calcium, we have to take into account that the reversal potential varies over time. The plot looks very similar to the one above where we directly computed the energy (the above plot also includes energy consumed by the synapses)."
   ]
  },
  {
   "cell_type": "code",
   "execution_count": 24,
   "metadata": {},
   "outputs": [],
   "source": [
    "E_CaS = membrane_conductances[:, 1, :] * (voltage - reversal_calcium)**2\n",
    "E_CaT = membrane_conductances[:, 2, :] * (voltage - reversal_calcium)**2\n",
    "E_A = membrane_conductances[:, 3, :] * (voltage - v_r_k)**2\n",
    "E_KCa = membrane_conductances[:, 4, :] * (voltage - v_r_k)**2\n",
    "E_Kd= membrane_conductances[:, 5, :] * (voltage - v_r_k)**2\n",
    "E_H = membrane_conductances[:, 6, :] * (voltage - v_r_h)**2\n",
    "E_leak = membrane_conductances[:, 7, :] * (voltage - v_r_leak)**2\n",
    "\n",
    "summed_energy = E_na + E_CaS + E_CaT + E_A + E_KCa + E_Kd + E_H + E_leak"
   ]
  },
  {
   "cell_type": "code",
   "execution_count": 26,
   "metadata": {},
   "outputs": [
    {
     "data": {
      "image/png": "[encoded data removed]",
      "text/plain": [
       "<Figure size 432x216 with 3 Axes>"
      ]
     },
     "metadata": {
      "needs_background": "light"
     },
     "output_type": "display_data"
    }
   ],
   "source": [
    "_ = show_traces(simulation_output, traces=summed_energy, title='W [nJ/s]')"
   ]
  },
  {
   "cell_type": "markdown",
   "metadata": {},
   "source": [
    "### Calculate the total energy by integrating over time\n",
    "$E = \\int W(t) dt \\approx \\sum_t W_t \\cdot \\Delta t = \\text{... nJ}$"
   ]
  },
  {
   "cell_type": "code",
   "execution_count": 15,
   "metadata": {},
   "outputs": [],
   "source": [
    "total_energy = sum(sum(summed_energy)) * simulation_output['dt'] / 1000 # /1000 because of milliseconds"
   ]
  },
  {
   "cell_type": "code",
   "execution_count": 16,
   "metadata": {},
   "outputs": [
    {
     "name": "stdout",
     "output_type": "stream",
     "text": [
      "The total energy consumed with 11 seconds of simulation is:   59300.6 nJ\n"
     ]
    }
   ],
   "source": [
    "print(f\"The total energy consumed with 11 seconds of simulation is:   {total_energy:.1f} nJ\")"
   ]
  },
  {
   "cell_type": "markdown",
   "metadata": {},
   "source": [
    "### Using pre-built funcitons to do the above"
   ]
  },
  {
   "cell_type": "code",
   "execution_count": 17,
   "metadata": {},
   "outputs": [],
   "source": [
    "energies_per_membrane = energy_of_membrane(simulation_output)\n",
    "energies_per_synapse = energy_of_synapse(simulation_output)"
   ]
  },
  {
   "cell_type": "code",
   "execution_count": 18,
   "metadata": {},
   "outputs": [
    {
     "data": {
      "image/png": "[encoded data removed]",
      "text/plain": [
       "<Figure size 432x216 with 3 Axes>"
      ]
     },
     "metadata": {
      "needs_background": "light"
     },
     "output_type": "display_data"
    }
   ],
   "source": [
    "_ = show_traces(simulation_output, traces=energies_per_membrane[0], title='Sodium W [nJ/s]')"
   ]
  }
 ],
 "metadata": {
  "kernelspec": {
   "display_name": "sbi_prinz",
   "language": "python",
   "name": "sbi_prinz"
  },
  "language_info": {
   "codemirror_mode": {
    "name": "ipython",
    "version": 3
   },
   "file_extension": ".py",
   "mimetype": "text/x-python",
   "name": "python",
   "nbconvert_exporter": "python",
   "pygments_lexer": "ipython3",
   "version": "3.8.5"
  }
 },
 "nbformat": 4,
 "nbformat_minor": 4
}
