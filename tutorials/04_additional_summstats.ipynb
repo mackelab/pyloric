{
 "cells": [
  {
   "cell_type": "markdown",
   "metadata": {},
   "source": [
    "## Simulating at higher temperatures and setting $Q_{10}$ values"
   ]
  },
  {
   "cell_type": "code",
   "execution_count": 1,
   "metadata": {},
   "outputs": [],
   "source": [
    "%load_ext autoreload\n",
    "%autoreload 2"
   ]
  },
  {
   "cell_type": "code",
   "execution_count": 2,
   "metadata": {},
   "outputs": [],
   "source": [
    "import pandas as pd\n",
    "\n",
    "pd.set_option(\"display.max_rows\", 10)\n",
    "pd.set_option(\"display.max_columns\", 100)\n",
    "pd.set_option(\"display.width\", 2000)\n",
    "pd.set_option(\"display.float_format\", \"{:,.4f}\".format)"
   ]
  },
  {
   "cell_type": "code",
   "execution_count": 3,
   "metadata": {},
   "outputs": [],
   "source": [
    "from pyloric import create_prior, simulate, stats\n",
    "from pyloric.utils import show_traces\n",
    "import torch"
   ]
  },
  {
   "cell_type": "markdown",
   "metadata": {},
   "source": [
    "### Create prior"
   ]
  },
  {
   "cell_type": "code",
   "execution_count": 4,
   "metadata": {},
   "outputs": [
    {
     "data": {
      "text/html": [
       "<div>\n",
       "<style scoped>\n",
       "    .dataframe tbody tr th:only-of-type {\n",
       "        vertical-align: middle;\n",
       "    }\n",
       "\n",
       "    .dataframe tbody tr th {\n",
       "        vertical-align: top;\n",
       "    }\n",
       "\n",
       "    .dataframe thead tr th {\n",
       "        text-align: left;\n",
       "    }\n",
       "</style>\n",
       "<table border=\"1\" class=\"dataframe\">\n",
       "  <thead>\n",
       "    <tr>\n",
       "      <th></th>\n",
       "      <th colspan=\"8\" halign=\"left\">AB/PD</th>\n",
       "      <th colspan=\"8\" halign=\"left\">LP</th>\n",
       "      <th colspan=\"8\" halign=\"left\">PY</th>\n",
       "      <th colspan=\"7\" halign=\"left\">Synapses</th>\n",
       "    </tr>\n",
       "    <tr>\n",
       "      <th></th>\n",
       "      <th>Na</th>\n",
       "      <th>CaT</th>\n",
       "      <th>CaS</th>\n",
       "      <th>A</th>\n",
       "      <th>KCa</th>\n",
       "      <th>Kd</th>\n",
       "      <th>H</th>\n",
       "      <th>Leak</th>\n",
       "      <th>Na</th>\n",
       "      <th>CaT</th>\n",
       "      <th>CaS</th>\n",
       "      <th>A</th>\n",
       "      <th>KCa</th>\n",
       "      <th>Kd</th>\n",
       "      <th>H</th>\n",
       "      <th>Leak</th>\n",
       "      <th>Na</th>\n",
       "      <th>CaT</th>\n",
       "      <th>CaS</th>\n",
       "      <th>A</th>\n",
       "      <th>KCa</th>\n",
       "      <th>Kd</th>\n",
       "      <th>H</th>\n",
       "      <th>Leak</th>\n",
       "      <th>AB-LP</th>\n",
       "      <th>PD-LP</th>\n",
       "      <th>AB-PY</th>\n",
       "      <th>PD-PY</th>\n",
       "      <th>LP-PD</th>\n",
       "      <th>LP-PY</th>\n",
       "      <th>PY-LP</th>\n",
       "    </tr>\n",
       "  </thead>\n",
       "  <tbody>\n",
       "    <tr>\n",
       "      <th>0</th>\n",
       "      <td>458.7803</td>\n",
       "      <td>0.7269</td>\n",
       "      <td>5.6700</td>\n",
       "      <td>32.4157</td>\n",
       "      <td>13.6989</td>\n",
       "      <td>90.7140</td>\n",
       "      <td>0.0024</td>\n",
       "      <td>0.0027</td>\n",
       "      <td>138.5559</td>\n",
       "      <td>1.1557</td>\n",
       "      <td>2.8209</td>\n",
       "      <td>44.1501</td>\n",
       "      <td>6.1972</td>\n",
       "      <td>100.9982</td>\n",
       "      <td>0.0440</td>\n",
       "      <td>0.0210</td>\n",
       "      <td>564.8376</td>\n",
       "      <td>2.4631</td>\n",
       "      <td>3.0317</td>\n",
       "      <td>33.4177</td>\n",
       "      <td>3.7200</td>\n",
       "      <td>120.6760</td>\n",
       "      <td>0.0477</td>\n",
       "      <td>0.0278</td>\n",
       "      <td>-12.5681</td>\n",
       "      <td>-16.8734</td>\n",
       "      <td>-8.3747</td>\n",
       "      <td>-18.1356</td>\n",
       "      <td>-16.2665</td>\n",
       "      <td>-13.3063</td>\n",
       "      <td>-18.0895</td>\n",
       "    </tr>\n",
       "  </tbody>\n",
       "</table>\n",
       "</div>"
      ],
      "text/plain": [
       "     AB/PD                                                           LP                                                           PY                                                     Synapses                                                     \n",
       "        Na    CaT    CaS       A     KCa      Kd      H   Leak       Na    CaT    CaS       A    KCa       Kd      H   Leak       Na    CaT    CaS       A    KCa       Kd      H   Leak    AB-LP    PD-LP   AB-PY    PD-PY    LP-PD    LP-PY    PY-LP\n",
       "0 458.7803 0.7269 5.6700 32.4157 13.6989 90.7140 0.0024 0.0027 138.5559 1.1557 2.8209 44.1501 6.1972 100.9982 0.0440 0.0210 564.8376 2.4631 3.0317 33.4177 3.7200 120.6760 0.0477 0.0278 -12.5681 -16.8734 -8.3747 -18.1356 -16.2665 -13.3063 -18.0895"
      ]
     },
     "execution_count": 4,
     "metadata": {},
     "output_type": "execute_result"
    }
   ],
   "source": [
    "prior = create_prior()\n",
    "_ = torch.manual_seed(2)\n",
    "p = prior.sample((1,))\n",
    "p"
   ]
  },
  {
   "cell_type": "markdown",
   "metadata": {},
   "source": [
    "### Simulate and keep track of energy consumption"
   ]
  },
  {
   "cell_type": "code",
   "execution_count": 5,
   "metadata": {},
   "outputs": [],
   "source": [
    "simulation_output = simulate(p.loc[0], track_energy=True, seed=1)"
   ]
  },
  {
   "cell_type": "markdown",
   "metadata": {},
   "source": [
    "### Visualize voltage trace"
   ]
  },
  {
   "cell_type": "code",
   "execution_count": 6,
   "metadata": {},
   "outputs": [
    {
     "data": {
      "image/png": "[encoded data removed]",
      "text/plain": [
       "<Figure size 432x216 with 3 Axes>"
      ]
     },
     "metadata": {
      "needs_background": "light"
     },
     "output_type": "display_data"
    }
   ],
   "source": [
    "_ = show_traces(simulation_output)"
   ]
  },
  {
   "cell_type": "markdown",
   "metadata": {},
   "source": [
    "### Compute summary statistics"
   ]
  },
  {
   "cell_type": "code",
   "execution_count": 14,
   "metadata": {},
   "outputs": [],
   "source": [
    "pd.set_option(\"display.float_format\", \"{:,.4f}\".format)"
   ]
  },
  {
   "cell_type": "code",
   "execution_count": 15,
   "metadata": {},
   "outputs": [
    {
     "data": {
      "text/html": [
       "<div>\n",
       "<style scoped>\n",
       "    .dataframe tbody tr th:only-of-type {\n",
       "        vertical-align: middle;\n",
       "    }\n",
       "\n",
       "    .dataframe tbody tr th {\n",
       "        vertical-align: top;\n",
       "    }\n",
       "\n",
       "    .dataframe thead tr th {\n",
       "        text-align: left;\n",
       "    }\n",
       "</style>\n",
       "<table border=\"1\" class=\"dataframe\">\n",
       "  <thead>\n",
       "    <tr>\n",
       "      <th></th>\n",
       "      <th>cycle_period</th>\n",
       "      <th colspan=\"3\" halign=\"left\">burst_durations</th>\n",
       "      <th colspan=\"3\" halign=\"left\">duty_cycles</th>\n",
       "      <th colspan=\"2\" halign=\"left\">start_phases</th>\n",
       "      <th colspan=\"2\" halign=\"left\">starts_to_starts</th>\n",
       "      <th colspan=\"2\" halign=\"left\">ends_to_starts</th>\n",
       "      <th colspan=\"2\" halign=\"left\">phase_gaps</th>\n",
       "    </tr>\n",
       "    <tr>\n",
       "      <th></th>\n",
       "      <th>Circuit</th>\n",
       "      <th>PM</th>\n",
       "      <th>LP</th>\n",
       "      <th>PY</th>\n",
       "      <th>PM</th>\n",
       "      <th>LP</th>\n",
       "      <th>PY</th>\n",
       "      <th>LP</th>\n",
       "      <th>PY</th>\n",
       "      <th>AB/PD-LP</th>\n",
       "      <th>LP-PY</th>\n",
       "      <th>AB/PD-LP</th>\n",
       "      <th>LP-PY</th>\n",
       "      <th>AB/PD-LP</th>\n",
       "      <th>LP-PY</th>\n",
       "    </tr>\n",
       "  </thead>\n",
       "  <tbody>\n",
       "    <tr>\n",
       "      <th>0</th>\n",
       "      <td>810.3958</td>\n",
       "      <td>75.4423</td>\n",
       "      <td>73.3750</td>\n",
       "      <td>170.7275</td>\n",
       "      <td>0.0931</td>\n",
       "      <td>0.0905</td>\n",
       "      <td>0.2107</td>\n",
       "      <td>nan</td>\n",
       "      <td>nan</td>\n",
       "      <td>nan</td>\n",
       "      <td>nan</td>\n",
       "      <td>nan</td>\n",
       "      <td>nan</td>\n",
       "      <td>nan</td>\n",
       "      <td>nan</td>\n",
       "    </tr>\n",
       "  </tbody>\n",
       "</table>\n",
       "</div>"
      ],
      "text/plain": [
       "  cycle_period burst_durations                  duty_cycles               start_phases     starts_to_starts       ends_to_starts       phase_gaps      \n",
       "       Circuit              PM      LP       PY          PM     LP     PY           LP  PY         AB/PD-LP LP-PY       AB/PD-LP LP-PY   AB/PD-LP LP-PY\n",
       "0     810.3958         75.4423 73.3750 170.7275      0.0931 0.0905 0.2107          nan nan              nan   nan            nan   nan        nan   nan"
      ]
     },
     "execution_count": 15,
     "metadata": {},
     "output_type": "execute_result"
    }
   ],
   "source": [
    "summstats = stats(simulation_output)\n",
    "summstats"
   ]
  },
  {
   "cell_type": "markdown",
   "metadata": {},
   "source": [
    "### Compute summstats including additional features\n",
    "All energies in nJ / $\\text{cm}^2$"
   ]
  },
  {
   "cell_type": "code",
   "execution_count": 19,
   "metadata": {},
   "outputs": [
    {
     "data": {
      "text/html": [
       "<div>\n",
       "<style scoped>\n",
       "    .dataframe tbody tr th:only-of-type {\n",
       "        vertical-align: middle;\n",
       "    }\n",
       "\n",
       "    .dataframe tbody tr th {\n",
       "        vertical-align: top;\n",
       "    }\n",
       "\n",
       "    .dataframe thead tr th {\n",
       "        text-align: left;\n",
       "    }\n",
       "</style>\n",
       "<table border=\"1\" class=\"dataframe\">\n",
       "  <thead>\n",
       "    <tr>\n",
       "      <th></th>\n",
       "      <th>cycle_period</th>\n",
       "      <th colspan=\"3\" halign=\"left\">burst_durations</th>\n",
       "      <th colspan=\"3\" halign=\"left\">duty_cycles</th>\n",
       "      <th colspan=\"2\" halign=\"left\">start_phases</th>\n",
       "      <th colspan=\"2\" halign=\"left\">starts_to_starts</th>\n",
       "      <th colspan=\"2\" halign=\"left\">ends_to_starts</th>\n",
       "      <th colspan=\"2\" halign=\"left\">phase_gaps</th>\n",
       "      <th colspan=\"3\" halign=\"left\">plateau_durations</th>\n",
       "      <th colspan=\"3\" halign=\"left\">num_bursts</th>\n",
       "      <th colspan=\"3\" halign=\"left\">energies</th>\n",
       "      <th colspan=\"3\" halign=\"left\">energies_per_burst</th>\n",
       "      <th colspan=\"3\" halign=\"left\">energies_per_spike</th>\n",
       "    </tr>\n",
       "    <tr>\n",
       "      <th></th>\n",
       "      <th>Circuit</th>\n",
       "      <th>PM</th>\n",
       "      <th>LP</th>\n",
       "      <th>PY</th>\n",
       "      <th>PM</th>\n",
       "      <th>LP</th>\n",
       "      <th>PY</th>\n",
       "      <th>LP</th>\n",
       "      <th>PY</th>\n",
       "      <th>AB/PD-LP</th>\n",
       "      <th>LP-PY</th>\n",
       "      <th>AB/PD-LP</th>\n",
       "      <th>LP-PY</th>\n",
       "      <th>AB/PD-LP</th>\n",
       "      <th>LP-PY</th>\n",
       "      <th>PM</th>\n",
       "      <th>LP</th>\n",
       "      <th>PY</th>\n",
       "      <th>PM</th>\n",
       "      <th>LP</th>\n",
       "      <th>PY</th>\n",
       "      <th>PM</th>\n",
       "      <th>LP</th>\n",
       "      <th>PY</th>\n",
       "      <th>PM</th>\n",
       "      <th>LP</th>\n",
       "      <th>PY</th>\n",
       "      <th>PM</th>\n",
       "      <th>LP</th>\n",
       "      <th>PY</th>\n",
       "    </tr>\n",
       "  </thead>\n",
       "  <tbody>\n",
       "    <tr>\n",
       "      <th>0</th>\n",
       "      <td>810.3958</td>\n",
       "      <td>75.4423</td>\n",
       "      <td>73.3750</td>\n",
       "      <td>170.7275</td>\n",
       "      <td>0.0931</td>\n",
       "      <td>0.0905</td>\n",
       "      <td>0.2107</td>\n",
       "      <td>nan</td>\n",
       "      <td>nan</td>\n",
       "      <td>nan</td>\n",
       "      <td>nan</td>\n",
       "      <td>nan</td>\n",
       "      <td>nan</td>\n",
       "      <td>nan</td>\n",
       "      <td>nan</td>\n",
       "      <td>2.5000</td>\n",
       "      <td>2.5000</td>\n",
       "      <td>2.5000</td>\n",
       "      <td>13.0000</td>\n",
       "      <td>1.0000</td>\n",
       "      <td>10.0000</td>\n",
       "      <td>22,793.9701</td>\n",
       "      <td>470.1559</td>\n",
       "      <td>31,964.3796</td>\n",
       "      <td>1,645.7645</td>\n",
       "      <td>206.8974</td>\n",
       "      <td>3,091.3413</td>\n",
       "      <td>486.2486</td>\n",
       "      <td>103.4487</td>\n",
       "      <td>562.0621</td>\n",
       "    </tr>\n",
       "  </tbody>\n",
       "</table>\n",
       "</div>"
      ],
      "text/plain": [
       "  cycle_period burst_durations                  duty_cycles               start_phases     starts_to_starts       ends_to_starts       phase_gaps       plateau_durations               num_bursts                   energies                      energies_per_burst                     energies_per_spike                  \n",
       "       Circuit              PM      LP       PY          PM     LP     PY           LP  PY         AB/PD-LP LP-PY       AB/PD-LP LP-PY   AB/PD-LP LP-PY                PM     LP     PY         PM     LP      PY          PM       LP          PY                 PM       LP         PY                 PM       LP       PY\n",
       "0     810.3958         75.4423 73.3750 170.7275      0.0931 0.0905 0.2107          nan nan              nan   nan            nan   nan        nan   nan            2.5000 2.5000 2.5000    13.0000 1.0000 10.0000 22,793.9701 470.1559 31,964.3796         1,645.7645 206.8974 3,091.3413           486.2486 103.4487 562.0621"
      ]
     },
     "execution_count": 19,
     "metadata": {},
     "output_type": "execute_result"
    }
   ],
   "source": [
    "summstats = stats(\n",
    "    simulation_output, \n",
    "    stats_customization={\n",
    "        \"plateau_durations\": True, \n",
    "        \"num_bursts\": True, \n",
    "        \"energies\": True, \n",
    "        \"energies_per_burst\": True, \n",
    "        \"energies_per_spike\": True\n",
    "    }\n",
    ")\n",
    "summstats"
   ]
  },
  {
   "cell_type": "code",
   "execution_count": null,
   "metadata": {},
   "outputs": [],
   "source": []
  }
 ],
 "metadata": {
  "kernelspec": {
   "display_name": "sbi_prinz",
   "language": "python",
   "name": "sbi_prinz"
  },
  "language_info": {
   "codemirror_mode": {
    "name": "ipython",
    "version": 3
   },
   "file_extension": ".py",
   "mimetype": "text/x-python",
   "name": "python",
   "nbconvert_exporter": "python",
   "pygments_lexer": "ipython3",
   "version": "3.8.5"
  }
 },
 "nbformat": 4,
 "nbformat_minor": 4
}
