{
 "cells": [
  {
   "cell_type": "markdown",
   "metadata": {},
   "source": [
    "## Simulating at higher temperatures and setting $Q_{10}$ values"
   ]
  },
  {
   "cell_type": "code",
   "execution_count": 1,
   "metadata": {},
   "outputs": [],
   "source": [
    "%load_ext autoreload\n",
    "%autoreload 2"
   ]
  },
  {
   "cell_type": "code",
   "execution_count": 2,
   "metadata": {},
   "outputs": [],
   "source": [
    "import pandas as pd\n",
    "\n",
    "pd.set_option(\"display.max_rows\", 10)\n",
    "pd.set_option(\"display.max_columns\", 100)\n",
    "pd.set_option(\"display.width\", 2000)\n",
    "pd.set_option(\"display.float_format\", \"{:,.4f}\".format)"
   ]
  },
  {
   "cell_type": "code",
   "execution_count": 7,
   "metadata": {},
   "outputs": [],
   "source": [
    "from pyloric import create_prior, simulate, stats\n",
    "from pyloric.utils import show_traces\n",
    "import torch"
   ]
  },
  {
   "cell_type": "markdown",
   "metadata": {},
   "source": [
    "### Create prior with default $Q_{10}$ values"
   ]
  },
  {
   "cell_type": "code",
   "execution_count": 8,
   "metadata": {},
   "outputs": [
    {
     "data": {
      "text/html": [
       "<div>\n",
       "<style scoped>\n",
       "    .dataframe tbody tr th:only-of-type {\n",
       "        vertical-align: middle;\n",
       "    }\n",
       "\n",
       "    .dataframe tbody tr th {\n",
       "        vertical-align: top;\n",
       "    }\n",
       "\n",
       "    .dataframe thead tr th {\n",
       "        text-align: left;\n",
       "    }\n",
       "</style>\n",
       "<table border=\"1\" class=\"dataframe\">\n",
       "  <thead>\n",
       "    <tr>\n",
       "      <th></th>\n",
       "      <th colspan=\"8\" halign=\"left\">AB/PD</th>\n",
       "      <th colspan=\"8\" halign=\"left\">LP</th>\n",
       "      <th colspan=\"8\" halign=\"left\">PY</th>\n",
       "      <th colspan=\"7\" halign=\"left\">Synapses</th>\n",
       "    </tr>\n",
       "    <tr>\n",
       "      <th></th>\n",
       "      <th>Na</th>\n",
       "      <th>CaT</th>\n",
       "      <th>CaS</th>\n",
       "      <th>A</th>\n",
       "      <th>KCa</th>\n",
       "      <th>Kd</th>\n",
       "      <th>H</th>\n",
       "      <th>Leak</th>\n",
       "      <th>Na</th>\n",
       "      <th>CaT</th>\n",
       "      <th>CaS</th>\n",
       "      <th>A</th>\n",
       "      <th>KCa</th>\n",
       "      <th>Kd</th>\n",
       "      <th>H</th>\n",
       "      <th>Leak</th>\n",
       "      <th>Na</th>\n",
       "      <th>CaT</th>\n",
       "      <th>CaS</th>\n",
       "      <th>A</th>\n",
       "      <th>KCa</th>\n",
       "      <th>Kd</th>\n",
       "      <th>H</th>\n",
       "      <th>Leak</th>\n",
       "      <th>AB-LP</th>\n",
       "      <th>PD-LP</th>\n",
       "      <th>AB-PY</th>\n",
       "      <th>PD-PY</th>\n",
       "      <th>LP-PD</th>\n",
       "      <th>LP-PY</th>\n",
       "      <th>PY-LP</th>\n",
       "    </tr>\n",
       "  </thead>\n",
       "  <tbody>\n",
       "    <tr>\n",
       "      <th>0</th>\n",
       "      <td>0.3046</td>\n",
       "      <td>0.0033</td>\n",
       "      <td>0.0023</td>\n",
       "      <td>0.0347</td>\n",
       "      <td>0.0061</td>\n",
       "      <td>0.0778</td>\n",
       "      <td>0.0000</td>\n",
       "      <td>0.0000</td>\n",
       "      <td>0.0730</td>\n",
       "      <td>0.0005</td>\n",
       "      <td>0.0041</td>\n",
       "      <td>0.0118</td>\n",
       "      <td>0.0022</td>\n",
       "      <td>0.0488</td>\n",
       "      <td>0.0000</td>\n",
       "      <td>0.0000</td>\n",
       "      <td>0.1535</td>\n",
       "      <td>0.0016</td>\n",
       "      <td>0.0017</td>\n",
       "      <td>0.0336</td>\n",
       "      <td>0.0007</td>\n",
       "      <td>0.0739</td>\n",
       "      <td>0.0000</td>\n",
       "      <td>0.0000</td>\n",
       "      <td>-15.2981</td>\n",
       "      <td>-11.9937</td>\n",
       "      <td>-11.6565</td>\n",
       "      <td>-10.5695</td>\n",
       "      <td>-9.8392</td>\n",
       "      <td>-15.7997</td>\n",
       "      <td>-9.0965</td>\n",
       "    </tr>\n",
       "  </tbody>\n",
       "</table>\n",
       "</div>"
      ],
      "text/plain": [
       "   AB/PD                                                      LP                                                      PY                                                  Synapses                                                    \n",
       "      Na    CaT    CaS      A    KCa     Kd      H   Leak     Na    CaT    CaS      A    KCa     Kd      H   Leak     Na    CaT    CaS      A    KCa     Kd      H   Leak    AB-LP    PD-LP    AB-PY    PD-PY   LP-PD    LP-PY   PY-LP\n",
       "0 0.3046 0.0033 0.0023 0.0347 0.0061 0.0778 0.0000 0.0000 0.0730 0.0005 0.0041 0.0118 0.0022 0.0488 0.0000 0.0000 0.1535 0.0016 0.0017 0.0336 0.0007 0.0739 0.0000 0.0000 -15.2981 -11.9937 -11.6565 -10.5695 -9.8392 -15.7997 -9.0965"
      ]
     },
     "execution_count": 8,
     "metadata": {},
     "output_type": "execute_result"
    }
   ],
   "source": [
    "# customization = {\"Q10_tau_m\": True}\n",
    "prior = create_prior(customization={})\n",
    "_ = torch.manual_seed(0)\n",
    "p = prior.sample((1,))\n",
    "p"
   ]
  },
  {
   "cell_type": "markdown",
   "metadata": {},
   "source": [
    "### Simulate at 10 degree and at 26 degree"
   ]
  },
  {
   "cell_type": "code",
   "execution_count": 9,
   "metadata": {},
   "outputs": [],
   "source": [
    "simulation_output = [simulate(p.loc[0], temperature=temp, seed=0, defaults={\"Q10_tau_m\": 2.8, \"Q10_tau_h\": 1.7}) for temp in [300]]"
   ]
  },
  {
   "cell_type": "code",
   "execution_count": 10,
   "metadata": {},
   "outputs": [
    {
     "data": {
      "image/png": "[encoded data removed]",
      "text/plain": [
       "<Figure size 432x216 with 3 Axes>"
      ]
     },
     "metadata": {
      "needs_background": "light"
     },
     "output_type": "display_data"
    }
   ],
   "source": [
    "for sim_ in simulation_output:\n",
    "    _ = show_traces(sim_)"
   ]
  },
  {
   "cell_type": "markdown",
   "metadata": {},
   "source": [
    "### Using variable $Q_{10}$ values"
   ]
  },
  {
   "cell_type": "code",
   "execution_count": 31,
   "metadata": {},
   "outputs": [],
   "source": [
    "_ = torch.manual_seed(0)"
   ]
  },
  {
   "cell_type": "code",
   "execution_count": 32,
   "metadata": {},
   "outputs": [
    {
     "data": {
      "text/html": [
       "<div>\n",
       "<style scoped>\n",
       "    .dataframe tbody tr th:only-of-type {\n",
       "        vertical-align: middle;\n",
       "    }\n",
       "\n",
       "    .dataframe tbody tr th {\n",
       "        vertical-align: top;\n",
       "    }\n",
       "\n",
       "    .dataframe thead tr th {\n",
       "        text-align: left;\n",
       "    }\n",
       "</style>\n",
       "<table border=\"1\" class=\"dataframe\">\n",
       "  <thead>\n",
       "    <tr>\n",
       "      <th></th>\n",
       "      <th colspan=\"8\" halign=\"left\">AB/PD</th>\n",
       "      <th colspan=\"8\" halign=\"left\">LP</th>\n",
       "      <th colspan=\"8\" halign=\"left\">PY</th>\n",
       "      <th colspan=\"7\" halign=\"left\">Synapses</th>\n",
       "      <th colspan=\"10\" halign=\"left\">Q10 gbar</th>\n",
       "    </tr>\n",
       "    <tr>\n",
       "      <th></th>\n",
       "      <th>Na</th>\n",
       "      <th>CaT</th>\n",
       "      <th>CaS</th>\n",
       "      <th>A</th>\n",
       "      <th>KCa</th>\n",
       "      <th>Kd</th>\n",
       "      <th>H</th>\n",
       "      <th>Leak</th>\n",
       "      <th>Na</th>\n",
       "      <th>CaT</th>\n",
       "      <th>CaS</th>\n",
       "      <th>A</th>\n",
       "      <th>KCa</th>\n",
       "      <th>Kd</th>\n",
       "      <th>H</th>\n",
       "      <th>Leak</th>\n",
       "      <th>Na</th>\n",
       "      <th>CaT</th>\n",
       "      <th>CaS</th>\n",
       "      <th>A</th>\n",
       "      <th>KCa</th>\n",
       "      <th>Kd</th>\n",
       "      <th>H</th>\n",
       "      <th>Leak</th>\n",
       "      <th>AB-LP</th>\n",
       "      <th>PD-LP</th>\n",
       "      <th>AB-PY</th>\n",
       "      <th>PD-PY</th>\n",
       "      <th>LP-PD</th>\n",
       "      <th>LP-PY</th>\n",
       "      <th>PY-LP</th>\n",
       "      <th>Na</th>\n",
       "      <th>CaT</th>\n",
       "      <th>CaS</th>\n",
       "      <th>A</th>\n",
       "      <th>KCa</th>\n",
       "      <th>Kd</th>\n",
       "      <th>H</th>\n",
       "      <th>Leak</th>\n",
       "      <th>Glut</th>\n",
       "      <th>Chol</th>\n",
       "    </tr>\n",
       "  </thead>\n",
       "  <tbody>\n",
       "    <tr>\n",
       "      <th>0</th>\n",
       "      <td>0.3046</td>\n",
       "      <td>0.0033</td>\n",
       "      <td>0.0023</td>\n",
       "      <td>0.0347</td>\n",
       "      <td>0.0061</td>\n",
       "      <td>0.0778</td>\n",
       "      <td>0.0000</td>\n",
       "      <td>0.0000</td>\n",
       "      <td>0.0730</td>\n",
       "      <td>0.0005</td>\n",
       "      <td>0.0041</td>\n",
       "      <td>0.0118</td>\n",
       "      <td>0.0022</td>\n",
       "      <td>0.0488</td>\n",
       "      <td>0.0000</td>\n",
       "      <td>0.0000</td>\n",
       "      <td>0.1535</td>\n",
       "      <td>0.0016</td>\n",
       "      <td>0.0017</td>\n",
       "      <td>0.0336</td>\n",
       "      <td>0.0007</td>\n",
       "      <td>0.0739</td>\n",
       "      <td>0.0000</td>\n",
       "      <td>0.0000</td>\n",
       "      <td>-15.2981</td>\n",
       "      <td>-11.9937</td>\n",
       "      <td>-11.6565</td>\n",
       "      <td>-10.5695</td>\n",
       "      <td>-9.8392</td>\n",
       "      <td>-15.7997</td>\n",
       "      <td>-9.0965</td>\n",
       "      <td>1.6306</td>\n",
       "      <td>1.1959</td>\n",
       "      <td>1.1527</td>\n",
       "      <td>1.4815</td>\n",
       "      <td>1.9175</td>\n",
       "      <td>1.5720</td>\n",
       "      <td>1.4808</td>\n",
       "      <td>1.7961</td>\n",
       "      <td>1.3680</td>\n",
       "      <td>1.2722</td>\n",
       "    </tr>\n",
       "  </tbody>\n",
       "</table>\n",
       "</div>"
      ],
      "text/plain": [
       "   AB/PD                                                      LP                                                      PY                                                  Synapses                                                     Q10 gbar                                                               \n",
       "      Na    CaT    CaS      A    KCa     Kd      H   Leak     Na    CaT    CaS      A    KCa     Kd      H   Leak     Na    CaT    CaS      A    KCa     Kd      H   Leak    AB-LP    PD-LP    AB-PY    PD-PY   LP-PD    LP-PY   PY-LP       Na    CaT    CaS      A    KCa     Kd      H   Leak   Glut   Chol\n",
       "0 0.3046 0.0033 0.0023 0.0347 0.0061 0.0778 0.0000 0.0000 0.0730 0.0005 0.0041 0.0118 0.0022 0.0488 0.0000 0.0000 0.1535 0.0016 0.0017 0.0336 0.0007 0.0739 0.0000 0.0000 -15.2981 -11.9937 -11.6565 -10.5695 -9.8392 -15.7997 -9.0965   1.6306 1.1959 1.1527 1.4815 1.9175 1.5720 1.4808 1.7961 1.3680 1.2722"
      ]
     },
     "execution_count": 32,
     "metadata": {},
     "output_type": "execute_result"
    }
   ],
   "source": [
    "customization = {\n",
    "    \"Q10_gbar_mem\": [True, True, True, True, True, True, True, True],\n",
    "    \"Q10_gbar_syn\": [True, True]\n",
    "}\n",
    "\n",
    "prior = create_prior(customization=customization)\n",
    "p = prior.sample((1,))\n",
    "p"
   ]
  },
  {
   "cell_type": "markdown",
   "metadata": {},
   "source": [
    "### Simulate them at 10 and 26 degree\n",
    "The trace at 10 degree is identical because it is the reference temperature at which $Q_{10}$ values do not play a role. The activity is slightly different at 26 degree though."
   ]
  },
  {
   "cell_type": "code",
   "execution_count": 218,
   "metadata": {},
   "outputs": [
    {
     "ename": "IndexError",
     "evalue": "index 14 is out of bounds for axis 0 with size 14",
     "output_type": "error",
     "traceback": [
      "\u001b[0;31m---------------------------------------------------------------------------\u001b[0m",
      "\u001b[0;31mIndexError\u001b[0m                                Traceback (most recent call last)",
      "\u001b[0;32m<ipython-input-218-eb0f82bfe95b>\u001b[0m in \u001b[0;36m<module>\u001b[0;34m\u001b[0m\n\u001b[0;32m----> 1\u001b[0;31m \u001b[0msimulation_output\u001b[0m \u001b[0;34m=\u001b[0m \u001b[0;34m[\u001b[0m\u001b[0msimulate\u001b[0m\u001b[0;34m(\u001b[0m\u001b[0mp\u001b[0m\u001b[0;34m.\u001b[0m\u001b[0mloc\u001b[0m\u001b[0;34m[\u001b[0m\u001b[0;36m0\u001b[0m\u001b[0;34m]\u001b[0m\u001b[0;34m,\u001b[0m \u001b[0mtemperature\u001b[0m\u001b[0;34m=\u001b[0m\u001b[0mtemp\u001b[0m\u001b[0;34m,\u001b[0m \u001b[0mcustomization\u001b[0m\u001b[0;34m=\u001b[0m\u001b[0mcustomization\u001b[0m\u001b[0;34m,\u001b[0m \u001b[0mseed\u001b[0m\u001b[0;34m=\u001b[0m\u001b[0;36m0\u001b[0m\u001b[0;34m)\u001b[0m \u001b[0;32mfor\u001b[0m \u001b[0mtemp\u001b[0m \u001b[0;32min\u001b[0m \u001b[0;34m[\u001b[0m\u001b[0;36m283\u001b[0m\u001b[0;34m]\u001b[0m\u001b[0;34m]\u001b[0m\u001b[0;34m\u001b[0m\u001b[0;34m\u001b[0m\u001b[0m\n\u001b[0m",
      "\u001b[0;32m<ipython-input-218-eb0f82bfe95b>\u001b[0m in \u001b[0;36m<listcomp>\u001b[0;34m(.0)\u001b[0m\n\u001b[0;32m----> 1\u001b[0;31m \u001b[0msimulation_output\u001b[0m \u001b[0;34m=\u001b[0m \u001b[0;34m[\u001b[0m\u001b[0msimulate\u001b[0m\u001b[0;34m(\u001b[0m\u001b[0mp\u001b[0m\u001b[0;34m.\u001b[0m\u001b[0mloc\u001b[0m\u001b[0;34m[\u001b[0m\u001b[0;36m0\u001b[0m\u001b[0;34m]\u001b[0m\u001b[0;34m,\u001b[0m \u001b[0mtemperature\u001b[0m\u001b[0;34m=\u001b[0m\u001b[0mtemp\u001b[0m\u001b[0;34m,\u001b[0m \u001b[0mcustomization\u001b[0m\u001b[0;34m=\u001b[0m\u001b[0mcustomization\u001b[0m\u001b[0;34m,\u001b[0m \u001b[0mseed\u001b[0m\u001b[0;34m=\u001b[0m\u001b[0;36m0\u001b[0m\u001b[0;34m)\u001b[0m \u001b[0;32mfor\u001b[0m \u001b[0mtemp\u001b[0m \u001b[0;32min\u001b[0m \u001b[0;34m[\u001b[0m\u001b[0;36m283\u001b[0m\u001b[0;34m]\u001b[0m\u001b[0;34m]\u001b[0m\u001b[0;34m\u001b[0m\u001b[0;34m\u001b[0m\u001b[0m\n\u001b[0m",
      "\u001b[0;32m~/Documents/pyloric/pyloric/sbi_wrapper.py\u001b[0m in \u001b[0;36msimulate\u001b[0;34m(circuit_parameters, dt, t_max, temperature, noise_std, track_energy, track_currents, seed, customization, defaults)\u001b[0m\n\u001b[1;32m    184\u001b[0m         \u001b[0;32mfor\u001b[0m \u001b[0mcond_num\u001b[0m \u001b[0;32min\u001b[0m \u001b[0mrange\u001b[0m\u001b[0;34m(\u001b[0m\u001b[0;36m8\u001b[0m\u001b[0;34m)\u001b[0m\u001b[0;34m:\u001b[0m  \u001b[0;31m# 8 membrane conductances per neuron\u001b[0m\u001b[0;34m\u001b[0m\u001b[0;34m\u001b[0m\u001b[0m\n\u001b[1;32m    185\u001b[0m             \u001b[0;32mif\u001b[0m \u001b[0msetup_dict\u001b[0m\u001b[0;34m[\u001b[0m\u001b[0;34m\"membrane_gbar\"\u001b[0m\u001b[0;34m]\u001b[0m\u001b[0;34m[\u001b[0m\u001b[0mneuron_num\u001b[0m\u001b[0;34m]\u001b[0m\u001b[0;34m[\u001b[0m\u001b[0mcond_num\u001b[0m\u001b[0;34m]\u001b[0m\u001b[0;34m:\u001b[0m\u001b[0;34m\u001b[0m\u001b[0;34m\u001b[0m\u001b[0m\n\u001b[0;32m--> 186\u001b[0;31m                 \u001b[0mmembrane_cond\u001b[0m\u001b[0;34m.\u001b[0m\u001b[0mappend\u001b[0m\u001b[0;34m(\u001b[0m\u001b[0mmembrane_conductances\u001b[0m\u001b[0;34m[\u001b[0m\u001b[0mcurrent_num\u001b[0m\u001b[0;34m]\u001b[0m\u001b[0;34m)\u001b[0m\u001b[0;34m\u001b[0m\u001b[0;34m\u001b[0m\u001b[0m\n\u001b[0m\u001b[1;32m    187\u001b[0m                 \u001b[0mcurrent_num\u001b[0m \u001b[0;34m+=\u001b[0m \u001b[0;36m1\u001b[0m\u001b[0;34m\u001b[0m\u001b[0;34m\u001b[0m\u001b[0m\n\u001b[1;32m    188\u001b[0m             \u001b[0;32melse\u001b[0m\u001b[0;34m:\u001b[0m\u001b[0;34m\u001b[0m\u001b[0;34m\u001b[0m\u001b[0m\n",
      "\u001b[0;32m~/anaconda3/envs/sbi_prinz/lib/python3.8/site-packages/pandas/core/series.py\u001b[0m in \u001b[0;36m__getitem__\u001b[0;34m(self, key)\u001b[0m\n\u001b[1;32m    877\u001b[0m \u001b[0;34m\u001b[0m\u001b[0m\n\u001b[1;32m    878\u001b[0m         \u001b[0;32mif\u001b[0m \u001b[0mis_integer\u001b[0m\u001b[0;34m(\u001b[0m\u001b[0mkey\u001b[0m\u001b[0;34m)\u001b[0m \u001b[0;32mand\u001b[0m \u001b[0mself\u001b[0m\u001b[0;34m.\u001b[0m\u001b[0mindex\u001b[0m\u001b[0;34m.\u001b[0m\u001b[0m_should_fallback_to_positional\u001b[0m\u001b[0;34m(\u001b[0m\u001b[0;34m)\u001b[0m\u001b[0;34m:\u001b[0m\u001b[0;34m\u001b[0m\u001b[0;34m\u001b[0m\u001b[0m\n\u001b[0;32m--> 879\u001b[0;31m             \u001b[0;32mreturn\u001b[0m \u001b[0mself\u001b[0m\u001b[0;34m.\u001b[0m\u001b[0m_values\u001b[0m\u001b[0;34m[\u001b[0m\u001b[0mkey\u001b[0m\u001b[0;34m]\u001b[0m\u001b[0;34m\u001b[0m\u001b[0;34m\u001b[0m\u001b[0m\n\u001b[0m\u001b[1;32m    880\u001b[0m \u001b[0;34m\u001b[0m\u001b[0m\n\u001b[1;32m    881\u001b[0m         \u001b[0;32melif\u001b[0m \u001b[0mkey_is_scalar\u001b[0m\u001b[0;34m:\u001b[0m\u001b[0;34m\u001b[0m\u001b[0;34m\u001b[0m\u001b[0m\n",
      "\u001b[0;31mIndexError\u001b[0m: index 14 is out of bounds for axis 0 with size 14"
     ]
    }
   ],
   "source": [
    "simulation_output = [simulate(p.loc[0], temperature=temp, customization=customization, seed=0) for temp in [283]]"
   ]
  },
  {
   "cell_type": "code",
   "execution_count": 219,
   "metadata": {},
   "outputs": [
    {
     "data": {
      "image/png": "[encoded data removed]",
      "text/plain": [
       "<Figure size 432x216 with 3 Axes>"
      ]
     },
     "metadata": {
      "needs_background": "light"
     },
     "output_type": "display_data"
    }
   ],
   "source": [
    "for sim_ in simulation_output:\n",
    "    _ = show_traces(sim_)"
   ]
  },
  {
   "cell_type": "code",
   "execution_count": null,
   "metadata": {},
   "outputs": [],
   "source": []
  }
 ],
 "metadata": {
  "kernelspec": {
   "display_name": "sbi_prinz",
   "language": "python",
   "name": "sbi_prinz"
  },
  "language_info": {
   "codemirror_mode": {
    "name": "ipython",
    "version": 3
   },
   "file_extension": ".py",
   "mimetype": "text/x-python",
   "name": "python",
   "nbconvert_exporter": "python",
   "pygments_lexer": "ipython3",
   "version": "3.8.5"
  }
 },
 "nbformat": 4,
 "nbformat_minor": 4
}
