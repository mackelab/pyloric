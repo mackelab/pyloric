{
 "cells": [
  {
   "cell_type": "markdown",
   "metadata": {},
   "source": [
    "## Simulating at higher temperatures and setting $Q_{10}$ values"
   ]
  },
  {
   "cell_type": "code",
   "execution_count": 130,
   "metadata": {},
   "outputs": [],
   "source": [
    "# %load ../pyloric/utils/pandas_setup.py\n",
    "import pandas as pd\n",
    "\n",
    "pd.set_option(\"display.max_rows\", 10)\n",
    "pd.set_option(\"display.max_columns\", 100)\n",
    "pd.set_option(\"display.width\", 2000)\n",
    "pd.set_option(\"display.float_format\", \"{:,.4f}\".format)"
   ]
  },
  {
   "cell_type": "code",
   "execution_count": 131,
   "metadata": {},
   "outputs": [],
   "source": [
    "from pyloric import create_prior, simulate, stats\n",
    "from pyloric.utils import show_traces\n",
    "import torch"
   ]
  },
  {
   "cell_type": "markdown",
   "metadata": {},
   "source": [
    "### Create prior with default $Q_{10}$ values"
   ]
  },
  {
   "cell_type": "code",
   "execution_count": 208,
   "metadata": {},
   "outputs": [],
   "source": [
    "_ = torch.manual_seed(0)"
   ]
  },
  {
   "cell_type": "code",
   "execution_count": 209,
   "metadata": {},
   "outputs": [
    {
     "data": {
      "text/html": [
       "<div>\n",
       "<style scoped>\n",
       "    .dataframe tbody tr th:only-of-type {\n",
       "        vertical-align: middle;\n",
       "    }\n",
       "\n",
       "    .dataframe tbody tr th {\n",
       "        vertical-align: top;\n",
       "    }\n",
       "\n",
       "    .dataframe thead tr th {\n",
       "        text-align: left;\n",
       "    }\n",
       "</style>\n",
       "<table border=\"1\" class=\"dataframe\">\n",
       "  <thead>\n",
       "    <tr>\n",
       "      <th></th>\n",
       "      <th colspan=\"8\" halign=\"left\">AB/PD</th>\n",
       "      <th colspan=\"8\" halign=\"left\">LP</th>\n",
       "      <th colspan=\"8\" halign=\"left\">PY</th>\n",
       "      <th colspan=\"7\" halign=\"left\">Synapses</th>\n",
       "    </tr>\n",
       "    <tr>\n",
       "      <th></th>\n",
       "      <th>Na</th>\n",
       "      <th>CaT</th>\n",
       "      <th>CaS</th>\n",
       "      <th>A</th>\n",
       "      <th>KCa</th>\n",
       "      <th>Kd</th>\n",
       "      <th>H</th>\n",
       "      <th>Leak</th>\n",
       "      <th>Na</th>\n",
       "      <th>CaT</th>\n",
       "      <th>CaS</th>\n",
       "      <th>A</th>\n",
       "      <th>KCa</th>\n",
       "      <th>Kd</th>\n",
       "      <th>H</th>\n",
       "      <th>Leak</th>\n",
       "      <th>Na</th>\n",
       "      <th>CaT</th>\n",
       "      <th>CaS</th>\n",
       "      <th>A</th>\n",
       "      <th>KCa</th>\n",
       "      <th>Kd</th>\n",
       "      <th>H</th>\n",
       "      <th>Leak</th>\n",
       "      <th>AB-LP</th>\n",
       "      <th>PD-LP</th>\n",
       "      <th>AB-PY</th>\n",
       "      <th>PD-PY</th>\n",
       "      <th>LP-PD</th>\n",
       "      <th>LP-PY</th>\n",
       "      <th>PY-LP</th>\n",
       "    </tr>\n",
       "  </thead>\n",
       "  <tbody>\n",
       "    <tr>\n",
       "      <th>0</th>\n",
       "      <td>0.3046</td>\n",
       "      <td>0.0033</td>\n",
       "      <td>0.0023</td>\n",
       "      <td>0.0347</td>\n",
       "      <td>0.0061</td>\n",
       "      <td>0.0778</td>\n",
       "      <td>0.0000</td>\n",
       "      <td>0.0000</td>\n",
       "      <td>0.0730</td>\n",
       "      <td>0.0005</td>\n",
       "      <td>0.0041</td>\n",
       "      <td>0.0118</td>\n",
       "      <td>0.0022</td>\n",
       "      <td>0.0488</td>\n",
       "      <td>0.0000</td>\n",
       "      <td>0.0000</td>\n",
       "      <td>0.1535</td>\n",
       "      <td>0.0016</td>\n",
       "      <td>0.0017</td>\n",
       "      <td>0.0336</td>\n",
       "      <td>0.0007</td>\n",
       "      <td>0.0739</td>\n",
       "      <td>0.0000</td>\n",
       "      <td>0.0000</td>\n",
       "      <td>-15.2981</td>\n",
       "      <td>-11.9937</td>\n",
       "      <td>-11.6565</td>\n",
       "      <td>-10.5695</td>\n",
       "      <td>-9.8392</td>\n",
       "      <td>-15.7997</td>\n",
       "      <td>-9.0965</td>\n",
       "    </tr>\n",
       "  </tbody>\n",
       "</table>\n",
       "</div>"
      ],
      "text/plain": [
       "   AB/PD                                                      LP                                                      PY                                                  Synapses                                                    \n",
       "      Na    CaT    CaS      A    KCa     Kd      H   Leak     Na    CaT    CaS      A    KCa     Kd      H   Leak     Na    CaT    CaS      A    KCa     Kd      H   Leak    AB-LP    PD-LP    AB-PY    PD-PY   LP-PD    LP-PY   PY-LP\n",
       "0 0.3046 0.0033 0.0023 0.0347 0.0061 0.0778 0.0000 0.0000 0.0730 0.0005 0.0041 0.0118 0.0022 0.0488 0.0000 0.0000 0.1535 0.0016 0.0017 0.0336 0.0007 0.0739 0.0000 0.0000 -15.2981 -11.9937 -11.6565 -10.5695 -9.8392 -15.7997 -9.0965"
      ]
     },
     "execution_count": 209,
     "metadata": {},
     "output_type": "execute_result"
    }
   ],
   "source": [
    "prior = create_prior()\n",
    "p = prior.sample((1,))\n",
    "p"
   ]
  },
  {
   "cell_type": "markdown",
   "metadata": {},
   "source": [
    "### Simulate at 10 degree and at 26 degree"
   ]
  },
  {
   "cell_type": "code",
   "execution_count": 210,
   "metadata": {},
   "outputs": [
    {
     "name": "stdout",
     "output_type": "stream",
     "text": [
      "[[-15.29809624 -11.99366983 -11.6565036  -10.56949089  -9.83922056\n",
      "  -15.79969837  -9.09645145]]\n"
     ]
    }
   ],
   "source": [
    "simulation_output = [simulate(p.loc[0], temperature=temp, seed=0) for temp in [283]]"
   ]
  },
  {
   "cell_type": "code",
   "execution_count": 211,
   "metadata": {},
   "outputs": [
    {
     "data": {
      "image/png": "[encoded data removed]",
      "text/plain": [
       "<Figure size 432x216 with 3 Axes>"
      ]
     },
     "metadata": {
      "needs_background": "light"
     },
     "output_type": "display_data"
    }
   ],
   "source": [
    "for sim_ in simulation_output:\n",
    "    _ = show_traces(sim_)"
   ]
  },
  {
   "cell_type": "code",
   "execution_count": 212,
   "metadata": {},
   "outputs": [],
   "source": [
    "import numpy as np\n",
    "data = pd.DataFrame(np.random.rand(1,5), columns=[['A', 'A', 'B', 'B', 'E'], ['1', '2', '3', '4', '5']])"
   ]
  },
  {
   "cell_type": "code",
   "execution_count": 213,
   "metadata": {},
   "outputs": [
    {
     "data": {
      "text/html": [
       "<div>\n",
       "<style scoped>\n",
       "    .dataframe tbody tr th:only-of-type {\n",
       "        vertical-align: middle;\n",
       "    }\n",
       "\n",
       "    .dataframe tbody tr th {\n",
       "        vertical-align: top;\n",
       "    }\n",
       "\n",
       "    .dataframe thead tr th {\n",
       "        text-align: left;\n",
       "    }\n",
       "</style>\n",
       "<table border=\"1\" class=\"dataframe\">\n",
       "  <thead>\n",
       "    <tr>\n",
       "      <th></th>\n",
       "      <th colspan=\"2\" halign=\"left\">A</th>\n",
       "      <th colspan=\"2\" halign=\"left\">B</th>\n",
       "      <th>E</th>\n",
       "    </tr>\n",
       "    <tr>\n",
       "      <th></th>\n",
       "      <th>1</th>\n",
       "      <th>2</th>\n",
       "      <th>3</th>\n",
       "      <th>4</th>\n",
       "      <th>5</th>\n",
       "    </tr>\n",
       "  </thead>\n",
       "  <tbody>\n",
       "    <tr>\n",
       "      <th>0</th>\n",
       "      <td>0.8959</td>\n",
       "      <td>0.3368</td>\n",
       "      <td>0.6559</td>\n",
       "      <td>0.7326</td>\n",
       "      <td>0.1411</td>\n",
       "    </tr>\n",
       "  </tbody>\n",
       "</table>\n",
       "</div>"
      ],
      "text/plain": [
       "       A             B             E\n",
       "       1      2      3      4      5\n",
       "0 0.8959 0.3368 0.6559 0.7326 0.1411"
      ]
     },
     "execution_count": 213,
     "metadata": {},
     "output_type": "execute_result"
    }
   ],
   "source": [
    "data"
   ]
  },
  {
   "cell_type": "code",
   "execution_count": 214,
   "metadata": {},
   "outputs": [
    {
     "data": {
      "text/html": [
       "<div>\n",
       "<style scoped>\n",
       "    .dataframe tbody tr th:only-of-type {\n",
       "        vertical-align: middle;\n",
       "    }\n",
       "\n",
       "    .dataframe tbody tr th {\n",
       "        vertical-align: top;\n",
       "    }\n",
       "\n",
       "    .dataframe thead tr th {\n",
       "        text-align: left;\n",
       "    }\n",
       "</style>\n",
       "<table border=\"1\" class=\"dataframe\">\n",
       "  <thead>\n",
       "    <tr>\n",
       "      <th></th>\n",
       "      <th colspan=\"2\" halign=\"left\">A</th>\n",
       "      <th colspan=\"2\" halign=\"left\">B</th>\n",
       "      <th>E</th>\n",
       "    </tr>\n",
       "    <tr>\n",
       "      <th></th>\n",
       "      <th>1</th>\n",
       "      <th>2</th>\n",
       "      <th>3</th>\n",
       "      <th>4</th>\n",
       "      <th>5</th>\n",
       "    </tr>\n",
       "  </thead>\n",
       "  <tbody>\n",
       "    <tr>\n",
       "      <th>0</th>\n",
       "      <td>0.8959</td>\n",
       "      <td>0.3368</td>\n",
       "      <td>0.6559</td>\n",
       "      <td>0.7326</td>\n",
       "      <td>0.1411</td>\n",
       "    </tr>\n",
       "  </tbody>\n",
       "</table>\n",
       "</div>"
      ],
      "text/plain": [
       "       A             B             E\n",
       "       1      2      3      4      5\n",
       "0 0.8959 0.3368 0.6559 0.7326 0.1411"
      ]
     },
     "execution_count": 214,
     "metadata": {},
     "output_type": "execute_result"
    }
   ],
   "source": [
    "data"
   ]
  },
  {
   "cell_type": "code",
   "execution_count": 152,
   "metadata": {},
   "outputs": [
    {
     "name": "stdout",
     "output_type": "stream",
     "text": [
      "nope\n"
     ]
    }
   ],
   "source": [
    "if ('A', '3') in data:\n",
    "    print(\"cool\")\n",
    "else:\n",
    "    print(\"nope\")"
   ]
  },
  {
   "cell_type": "code",
   "execution_count": 107,
   "metadata": {},
   "outputs": [
    {
     "name": "stdout",
     "output_type": "stream",
     "text": [
      "A 1\n",
      "A 2\n",
      "B 3\n",
      "B 4\n",
      "E 5\n"
     ]
    }
   ],
   "source": [
    "for x,y in data.columns:\n",
    "    print(x, y)"
   ]
  },
  {
   "cell_type": "code",
   "execution_count": 112,
   "metadata": {},
   "outputs": [],
   "source": [
    "data.loc['A', '1'] = 2.0"
   ]
  },
  {
   "cell_type": "markdown",
   "metadata": {},
   "source": [
    "### Using variable $Q_{10}$ values"
   ]
  },
  {
   "cell_type": "code",
   "execution_count": 31,
   "metadata": {},
   "outputs": [],
   "source": [
    "_ = torch.manual_seed(0)"
   ]
  },
  {
   "cell_type": "code",
   "execution_count": 32,
   "metadata": {},
   "outputs": [
    {
     "data": {
      "text/html": [
       "<div>\n",
       "<style scoped>\n",
       "    .dataframe tbody tr th:only-of-type {\n",
       "        vertical-align: middle;\n",
       "    }\n",
       "\n",
       "    .dataframe tbody tr th {\n",
       "        vertical-align: top;\n",
       "    }\n",
       "\n",
       "    .dataframe thead tr th {\n",
       "        text-align: left;\n",
       "    }\n",
       "</style>\n",
       "<table border=\"1\" class=\"dataframe\">\n",
       "  <thead>\n",
       "    <tr>\n",
       "      <th></th>\n",
       "      <th colspan=\"8\" halign=\"left\">AB/PD</th>\n",
       "      <th colspan=\"8\" halign=\"left\">LP</th>\n",
       "      <th colspan=\"8\" halign=\"left\">PY</th>\n",
       "      <th colspan=\"7\" halign=\"left\">Synapses</th>\n",
       "      <th colspan=\"10\" halign=\"left\">Q10 gbar</th>\n",
       "    </tr>\n",
       "    <tr>\n",
       "      <th></th>\n",
       "      <th>Na</th>\n",
       "      <th>CaT</th>\n",
       "      <th>CaS</th>\n",
       "      <th>A</th>\n",
       "      <th>KCa</th>\n",
       "      <th>Kd</th>\n",
       "      <th>H</th>\n",
       "      <th>Leak</th>\n",
       "      <th>Na</th>\n",
       "      <th>CaT</th>\n",
       "      <th>CaS</th>\n",
       "      <th>A</th>\n",
       "      <th>KCa</th>\n",
       "      <th>Kd</th>\n",
       "      <th>H</th>\n",
       "      <th>Leak</th>\n",
       "      <th>Na</th>\n",
       "      <th>CaT</th>\n",
       "      <th>CaS</th>\n",
       "      <th>A</th>\n",
       "      <th>KCa</th>\n",
       "      <th>Kd</th>\n",
       "      <th>H</th>\n",
       "      <th>Leak</th>\n",
       "      <th>AB-LP</th>\n",
       "      <th>PD-LP</th>\n",
       "      <th>AB-PY</th>\n",
       "      <th>PD-PY</th>\n",
       "      <th>LP-PD</th>\n",
       "      <th>LP-PY</th>\n",
       "      <th>PY-LP</th>\n",
       "      <th>Na</th>\n",
       "      <th>CaT</th>\n",
       "      <th>CaS</th>\n",
       "      <th>A</th>\n",
       "      <th>KCa</th>\n",
       "      <th>Kd</th>\n",
       "      <th>H</th>\n",
       "      <th>Leak</th>\n",
       "      <th>Glut</th>\n",
       "      <th>Chol</th>\n",
       "    </tr>\n",
       "  </thead>\n",
       "  <tbody>\n",
       "    <tr>\n",
       "      <th>0</th>\n",
       "      <td>0.3046</td>\n",
       "      <td>0.0033</td>\n",
       "      <td>0.0023</td>\n",
       "      <td>0.0347</td>\n",
       "      <td>0.0061</td>\n",
       "      <td>0.0778</td>\n",
       "      <td>0.0000</td>\n",
       "      <td>0.0000</td>\n",
       "      <td>0.0730</td>\n",
       "      <td>0.0005</td>\n",
       "      <td>0.0041</td>\n",
       "      <td>0.0118</td>\n",
       "      <td>0.0022</td>\n",
       "      <td>0.0488</td>\n",
       "      <td>0.0000</td>\n",
       "      <td>0.0000</td>\n",
       "      <td>0.1535</td>\n",
       "      <td>0.0016</td>\n",
       "      <td>0.0017</td>\n",
       "      <td>0.0336</td>\n",
       "      <td>0.0007</td>\n",
       "      <td>0.0739</td>\n",
       "      <td>0.0000</td>\n",
       "      <td>0.0000</td>\n",
       "      <td>-15.2981</td>\n",
       "      <td>-11.9937</td>\n",
       "      <td>-11.6565</td>\n",
       "      <td>-10.5695</td>\n",
       "      <td>-9.8392</td>\n",
       "      <td>-15.7997</td>\n",
       "      <td>-9.0965</td>\n",
       "      <td>1.6306</td>\n",
       "      <td>1.1959</td>\n",
       "      <td>1.1527</td>\n",
       "      <td>1.4815</td>\n",
       "      <td>1.9175</td>\n",
       "      <td>1.5720</td>\n",
       "      <td>1.4808</td>\n",
       "      <td>1.7961</td>\n",
       "      <td>1.3680</td>\n",
       "      <td>1.2722</td>\n",
       "    </tr>\n",
       "  </tbody>\n",
       "</table>\n",
       "</div>"
      ],
      "text/plain": [
       "   AB/PD                                                      LP                                                      PY                                                  Synapses                                                     Q10 gbar                                                               \n",
       "      Na    CaT    CaS      A    KCa     Kd      H   Leak     Na    CaT    CaS      A    KCa     Kd      H   Leak     Na    CaT    CaS      A    KCa     Kd      H   Leak    AB-LP    PD-LP    AB-PY    PD-PY   LP-PD    LP-PY   PY-LP       Na    CaT    CaS      A    KCa     Kd      H   Leak   Glut   Chol\n",
       "0 0.3046 0.0033 0.0023 0.0347 0.0061 0.0778 0.0000 0.0000 0.0730 0.0005 0.0041 0.0118 0.0022 0.0488 0.0000 0.0000 0.1535 0.0016 0.0017 0.0336 0.0007 0.0739 0.0000 0.0000 -15.2981 -11.9937 -11.6565 -10.5695 -9.8392 -15.7997 -9.0965   1.6306 1.1959 1.1527 1.4815 1.9175 1.5720 1.4808 1.7961 1.3680 1.2722"
      ]
     },
     "execution_count": 32,
     "metadata": {},
     "output_type": "execute_result"
    }
   ],
   "source": [
    "customization = {\n",
    "    \"Q10_gbar_mem\": [True, True, True, True, True, True, True, True],\n",
    "    \"Q10_gbar_syn\": [True, True]\n",
    "}\n",
    "\n",
    "prior = create_prior(customization=customization)\n",
    "p = prior.sample((1,))\n",
    "p"
   ]
  },
  {
   "cell_type": "markdown",
   "metadata": {},
   "source": [
    "### Simulate them at 10 and 26 degree\n",
    "The trace at 10 degree is identical because it is the reference temperature at which $Q_{10}$ values do not play a role. The activity is slightly different at 26 degree though."
   ]
  },
  {
   "cell_type": "code",
   "execution_count": 40,
   "metadata": {},
   "outputs": [
    {
     "name": "stdout",
     "output_type": "stream",
     "text": [
      "(3, 8)\n",
      "AB/PD     Na     0.3046\n",
      "          CaT    0.0033\n",
      "          CaS    0.0023\n",
      "          A      0.0347\n",
      "          KCa    0.0061\n",
      "                  ...  \n",
      "Q10 gbar  Kd     1.5720\n",
      "          H      1.4808\n",
      "          Leak   1.7961\n",
      "          Glut   1.3680\n",
      "          Chol   1.2722\n",
      "Name: 0, Length: 41, dtype: float64\n"
     ]
    }
   ],
   "source": [
    "simulation_output = [simulate(p.loc[0], temperature=temp, customization=customization, seed=0) for temp in [283]]"
   ]
  },
  {
   "cell_type": "code",
   "execution_count": 37,
   "metadata": {},
   "outputs": [
    {
     "data": {
      "image/png": "[encoded data removed]",
      "text/plain": [
       "<Figure size 432x216 with 3 Axes>"
      ]
     },
     "metadata": {
      "needs_background": "light"
     },
     "output_type": "display_data"
    },
    {
     "data": {
      "image/png": "[encoded data removed]",
      "text/plain": [
       "<Figure size 432x216 with 3 Axes>"
      ]
     },
     "metadata": {
      "needs_background": "light"
     },
     "output_type": "display_data"
    }
   ],
   "source": [
    "for sim_ in simulation_output:\n",
    "    _ = show_traces(sim_)"
   ]
  },
  {
   "cell_type": "code",
   "execution_count": null,
   "metadata": {},
   "outputs": [],
   "source": []
  }
 ],
 "metadata": {
  "kernelspec": {
   "display_name": "sbi_prinz",
   "language": "python",
   "name": "sbi_prinz"
  },
  "language_info": {
   "codemirror_mode": {
    "name": "ipython",
    "version": 3
   },
   "file_extension": ".py",
   "mimetype": "text/x-python",
   "name": "python",
   "nbconvert_exporter": "python",
   "pygments_lexer": "ipython3",
   "version": "3.8.5"
  }
 },
 "nbformat": 4,
 "nbformat_minor": 4
}
