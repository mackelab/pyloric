{
 "cells": [
  {
   "cell_type": "markdown",
   "metadata": {},
   "source": [
    "## Simulating at higher temperatures and setting $Q_{10}$ values"
   ]
  },
  {
   "cell_type": "code",
   "execution_count": 88,
   "metadata": {},
   "outputs": [
    {
     "name": "stdout",
     "output_type": "stream",
     "text": [
      "The autoreload extension is already loaded. To reload it, use:\n",
      "  %reload_ext autoreload\n"
     ]
    }
   ],
   "source": [
    "%load_ext autoreload\n",
    "%autoreload 2"
   ]
  },
  {
   "cell_type": "code",
   "execution_count": 89,
   "metadata": {},
   "outputs": [],
   "source": [
    "import pandas as pd\n",
    "\n",
    "pd.set_option(\"display.max_rows\", 10)\n",
    "pd.set_option(\"display.max_columns\", 100)\n",
    "pd.set_option(\"display.width\", 2000)\n",
    "pd.set_option(\"display.float_format\", \"{:,.4f}\".format)"
   ]
  },
  {
   "cell_type": "code",
   "execution_count": 90,
   "metadata": {},
   "outputs": [],
   "source": [
    "from pyloric import create_prior, simulate, stats\n",
    "from pyloric.utils import show_traces\n",
    "import torch"
   ]
  },
  {
   "cell_type": "markdown",
   "metadata": {},
   "source": [
    "### Create prior with default $Q_{10}$ values"
   ]
  },
  {
   "cell_type": "code",
   "execution_count": 91,
   "metadata": {},
   "outputs": [
    {
     "data": {
      "text/html": [
       "<div>\n",
       "<style scoped>\n",
       "    .dataframe tbody tr th:only-of-type {\n",
       "        vertical-align: middle;\n",
       "    }\n",
       "\n",
       "    .dataframe tbody tr th {\n",
       "        vertical-align: top;\n",
       "    }\n",
       "\n",
       "    .dataframe thead tr th {\n",
       "        text-align: left;\n",
       "    }\n",
       "</style>\n",
       "<table border=\"1\" class=\"dataframe\">\n",
       "  <thead>\n",
       "    <tr>\n",
       "      <th></th>\n",
       "      <th colspan=\"8\" halign=\"left\">AB/PD</th>\n",
       "      <th colspan=\"8\" halign=\"left\">LP</th>\n",
       "      <th colspan=\"8\" halign=\"left\">PY</th>\n",
       "      <th colspan=\"7\" halign=\"left\">Synapses</th>\n",
       "    </tr>\n",
       "    <tr>\n",
       "      <th></th>\n",
       "      <th>Na</th>\n",
       "      <th>CaT</th>\n",
       "      <th>CaS</th>\n",
       "      <th>A</th>\n",
       "      <th>KCa</th>\n",
       "      <th>Kd</th>\n",
       "      <th>H</th>\n",
       "      <th>Leak</th>\n",
       "      <th>Na</th>\n",
       "      <th>CaT</th>\n",
       "      <th>CaS</th>\n",
       "      <th>A</th>\n",
       "      <th>KCa</th>\n",
       "      <th>Kd</th>\n",
       "      <th>H</th>\n",
       "      <th>Leak</th>\n",
       "      <th>Na</th>\n",
       "      <th>CaT</th>\n",
       "      <th>CaS</th>\n",
       "      <th>A</th>\n",
       "      <th>KCa</th>\n",
       "      <th>Kd</th>\n",
       "      <th>H</th>\n",
       "      <th>Leak</th>\n",
       "      <th>AB-LP</th>\n",
       "      <th>PD-LP</th>\n",
       "      <th>AB-PY</th>\n",
       "      <th>PD-PY</th>\n",
       "      <th>LP-PD</th>\n",
       "      <th>LP-PY</th>\n",
       "      <th>PY-LP</th>\n",
       "    </tr>\n",
       "  </thead>\n",
       "  <tbody>\n",
       "    <tr>\n",
       "      <th>0</th>\n",
       "      <td>458.7803</td>\n",
       "      <td>0.7269</td>\n",
       "      <td>5.6700</td>\n",
       "      <td>32.4157</td>\n",
       "      <td>13.6989</td>\n",
       "      <td>90.7140</td>\n",
       "      <td>0.0024</td>\n",
       "      <td>0.0027</td>\n",
       "      <td>138.5559</td>\n",
       "      <td>1.1557</td>\n",
       "      <td>2.8209</td>\n",
       "      <td>44.1501</td>\n",
       "      <td>6.1972</td>\n",
       "      <td>100.9982</td>\n",
       "      <td>0.0440</td>\n",
       "      <td>0.0210</td>\n",
       "      <td>564.8376</td>\n",
       "      <td>2.4631</td>\n",
       "      <td>3.0317</td>\n",
       "      <td>33.4177</td>\n",
       "      <td>3.7200</td>\n",
       "      <td>120.6760</td>\n",
       "      <td>0.0477</td>\n",
       "      <td>0.0278</td>\n",
       "      <td>-12.5681</td>\n",
       "      <td>-16.8734</td>\n",
       "      <td>-8.3747</td>\n",
       "      <td>-18.1356</td>\n",
       "      <td>-16.2665</td>\n",
       "      <td>-13.3063</td>\n",
       "      <td>-18.0895</td>\n",
       "    </tr>\n",
       "  </tbody>\n",
       "</table>\n",
       "</div>"
      ],
      "text/plain": [
       "     AB/PD                                                           LP                                                           PY                                                     Synapses                                                     \n",
       "        Na    CaT    CaS       A     KCa      Kd      H   Leak       Na    CaT    CaS       A    KCa       Kd      H   Leak       Na    CaT    CaS       A    KCa       Kd      H   Leak    AB-LP    PD-LP   AB-PY    PD-PY    LP-PD    LP-PY    PY-LP\n",
       "0 458.7803 0.7269 5.6700 32.4157 13.6989 90.7140 0.0024 0.0027 138.5559 1.1557 2.8209 44.1501 6.1972 100.9982 0.0440 0.0210 564.8376 2.4631 3.0317 33.4177 3.7200 120.6760 0.0477 0.0278 -12.5681 -16.8734 -8.3747 -18.1356 -16.2665 -13.3063 -18.0895"
      ]
     },
     "execution_count": 91,
     "metadata": {},
     "output_type": "execute_result"
    }
   ],
   "source": [
    "prior = create_prior(customization={})\n",
    "_ = torch.manual_seed(2)\n",
    "p = prior.sample((1,))\n",
    "p"
   ]
  },
  {
   "cell_type": "markdown",
   "metadata": {},
   "source": [
    "### Simulate at 10 degree and at 26 degree"
   ]
  },
  {
   "cell_type": "code",
   "execution_count": 92,
   "metadata": {},
   "outputs": [],
   "source": [
    "simulation_output = [simulate(p.loc[0], temperature=temp, seed=0) for temp in [283, 299]]"
   ]
  },
  {
   "cell_type": "code",
   "execution_count": 93,
   "metadata": {},
   "outputs": [
    {
     "data": {
      "image/png": "[encoded data removed]",
      "text/plain": [
       "<Figure size 432x216 with 3 Axes>"
      ]
     },
     "metadata": {
      "needs_background": "light"
     },
     "output_type": "display_data"
    },
    {
     "data": {
      "image/png": "[encoded data removed]",
      "text/plain": [
       "<Figure size 432x216 with 3 Axes>"
      ]
     },
     "metadata": {
      "needs_background": "light"
     },
     "output_type": "display_data"
    }
   ],
   "source": [
    "for sim_ in simulation_output:\n",
    "    _ = show_traces(sim_)"
   ]
  },
  {
   "cell_type": "code",
   "execution_count": 94,
   "metadata": {},
   "outputs": [
    {
     "data": {
      "text/html": [
       "<div>\n",
       "<style scoped>\n",
       "    .dataframe tbody tr th:only-of-type {\n",
       "        vertical-align: middle;\n",
       "    }\n",
       "\n",
       "    .dataframe tbody tr th {\n",
       "        vertical-align: top;\n",
       "    }\n",
       "\n",
       "    .dataframe thead tr th {\n",
       "        text-align: left;\n",
       "    }\n",
       "</style>\n",
       "<table border=\"1\" class=\"dataframe\">\n",
       "  <thead>\n",
       "    <tr>\n",
       "      <th></th>\n",
       "      <th>cycle_period</th>\n",
       "      <th colspan=\"3\" halign=\"left\">burst_durations</th>\n",
       "      <th colspan=\"3\" halign=\"left\">duty_cycles</th>\n",
       "      <th colspan=\"2\" halign=\"left\">start_phases</th>\n",
       "      <th colspan=\"2\" halign=\"left\">starts_to_starts</th>\n",
       "      <th colspan=\"2\" halign=\"left\">ends_to_starts</th>\n",
       "      <th colspan=\"2\" halign=\"left\">phase_gaps</th>\n",
       "    </tr>\n",
       "    <tr>\n",
       "      <th></th>\n",
       "      <th>Circuit</th>\n",
       "      <th>PM</th>\n",
       "      <th>LP</th>\n",
       "      <th>PY</th>\n",
       "      <th>PM</th>\n",
       "      <th>LP</th>\n",
       "      <th>PY</th>\n",
       "      <th>LP</th>\n",
       "      <th>PY</th>\n",
       "      <th>AB/PD-LP</th>\n",
       "      <th>LP-PY</th>\n",
       "      <th>AB/PD-LP</th>\n",
       "      <th>LP-PY</th>\n",
       "      <th>AB/PD-LP</th>\n",
       "      <th>LP-PY</th>\n",
       "    </tr>\n",
       "  </thead>\n",
       "  <tbody>\n",
       "    <tr>\n",
       "      <th>0</th>\n",
       "      <td>388.0080</td>\n",
       "      <td>62.2606</td>\n",
       "      <td>nan</td>\n",
       "      <td>84.5571</td>\n",
       "      <td>0.1605</td>\n",
       "      <td>nan</td>\n",
       "      <td>0.2179</td>\n",
       "      <td>nan</td>\n",
       "      <td>nan</td>\n",
       "      <td>nan</td>\n",
       "      <td>nan</td>\n",
       "      <td>nan</td>\n",
       "      <td>nan</td>\n",
       "      <td>nan</td>\n",
       "      <td>nan</td>\n",
       "    </tr>\n",
       "  </tbody>\n",
       "</table>\n",
       "</div>"
      ],
      "text/plain": [
       "  cycle_period burst_durations             duty_cycles            start_phases     starts_to_starts       ends_to_starts       phase_gaps      \n",
       "       Circuit              PM  LP      PY          PM  LP     PY           LP  PY         AB/PD-LP LP-PY       AB/PD-LP LP-PY   AB/PD-LP LP-PY\n",
       "0     388.0080         62.2606 nan 84.5571      0.1605 nan 0.2179          nan nan              nan   nan            nan   nan        nan   nan"
      ]
     },
     "execution_count": 94,
     "metadata": {},
     "output_type": "execute_result"
    }
   ],
   "source": [
    "stats(simulation_output[1])"
   ]
  },
  {
   "cell_type": "markdown",
   "metadata": {},
   "source": [
    "### Using variable $Q_{10}$ values"
   ]
  },
  {
   "cell_type": "code",
   "execution_count": 100,
   "metadata": {},
   "outputs": [
    {
     "data": {
      "text/html": [
       "<div>\n",
       "<style scoped>\n",
       "    .dataframe tbody tr th:only-of-type {\n",
       "        vertical-align: middle;\n",
       "    }\n",
       "\n",
       "    .dataframe tbody tr th {\n",
       "        vertical-align: top;\n",
       "    }\n",
       "\n",
       "    .dataframe thead tr th {\n",
       "        text-align: left;\n",
       "    }\n",
       "</style>\n",
       "<table border=\"1\" class=\"dataframe\">\n",
       "  <thead>\n",
       "    <tr>\n",
       "      <th></th>\n",
       "      <th colspan=\"8\" halign=\"left\">AB/PD</th>\n",
       "      <th colspan=\"8\" halign=\"left\">LP</th>\n",
       "      <th colspan=\"8\" halign=\"left\">PY</th>\n",
       "      <th colspan=\"7\" halign=\"left\">Synapses</th>\n",
       "      <th colspan=\"10\" halign=\"left\">Q10 gbar</th>\n",
       "    </tr>\n",
       "    <tr>\n",
       "      <th></th>\n",
       "      <th>Na</th>\n",
       "      <th>CaT</th>\n",
       "      <th>CaS</th>\n",
       "      <th>A</th>\n",
       "      <th>KCa</th>\n",
       "      <th>Kd</th>\n",
       "      <th>H</th>\n",
       "      <th>Leak</th>\n",
       "      <th>Na</th>\n",
       "      <th>CaT</th>\n",
       "      <th>CaS</th>\n",
       "      <th>A</th>\n",
       "      <th>KCa</th>\n",
       "      <th>Kd</th>\n",
       "      <th>H</th>\n",
       "      <th>Leak</th>\n",
       "      <th>Na</th>\n",
       "      <th>CaT</th>\n",
       "      <th>CaS</th>\n",
       "      <th>A</th>\n",
       "      <th>KCa</th>\n",
       "      <th>Kd</th>\n",
       "      <th>H</th>\n",
       "      <th>Leak</th>\n",
       "      <th>AB-LP</th>\n",
       "      <th>PD-LP</th>\n",
       "      <th>AB-PY</th>\n",
       "      <th>PD-PY</th>\n",
       "      <th>LP-PD</th>\n",
       "      <th>LP-PY</th>\n",
       "      <th>PY-LP</th>\n",
       "      <th>Na</th>\n",
       "      <th>CaT</th>\n",
       "      <th>CaS</th>\n",
       "      <th>A</th>\n",
       "      <th>KCa</th>\n",
       "      <th>Kd</th>\n",
       "      <th>H</th>\n",
       "      <th>Leak</th>\n",
       "      <th>Glut</th>\n",
       "      <th>Chol</th>\n",
       "    </tr>\n",
       "  </thead>\n",
       "  <tbody>\n",
       "    <tr>\n",
       "      <th>0</th>\n",
       "      <td>458.7803</td>\n",
       "      <td>0.7269</td>\n",
       "      <td>5.6700</td>\n",
       "      <td>32.4157</td>\n",
       "      <td>13.6989</td>\n",
       "      <td>90.7140</td>\n",
       "      <td>0.0024</td>\n",
       "      <td>0.0027</td>\n",
       "      <td>138.5559</td>\n",
       "      <td>1.1557</td>\n",
       "      <td>2.8209</td>\n",
       "      <td>44.1501</td>\n",
       "      <td>6.1972</td>\n",
       "      <td>100.9982</td>\n",
       "      <td>0.0440</td>\n",
       "      <td>0.0210</td>\n",
       "      <td>564.8376</td>\n",
       "      <td>2.4631</td>\n",
       "      <td>3.0317</td>\n",
       "      <td>33.4177</td>\n",
       "      <td>3.7200</td>\n",
       "      <td>120.6760</td>\n",
       "      <td>0.0477</td>\n",
       "      <td>0.0278</td>\n",
       "      <td>-12.5681</td>\n",
       "      <td>-16.8734</td>\n",
       "      <td>-8.3747</td>\n",
       "      <td>-18.1356</td>\n",
       "      <td>-16.2665</td>\n",
       "      <td>-13.3063</td>\n",
       "      <td>-18.0895</td>\n",
       "      <td>1.1701</td>\n",
       "      <td>1.5530</td>\n",
       "      <td>1.3270</td>\n",
       "      <td>1.7248</td>\n",
       "      <td>1.3561</td>\n",
       "      <td>1.3695</td>\n",
       "      <td>1.8486</td>\n",
       "      <td>1.3875</td>\n",
       "      <td>1.1408</td>\n",
       "      <td>1.4006</td>\n",
       "    </tr>\n",
       "  </tbody>\n",
       "</table>\n",
       "</div>"
      ],
      "text/plain": [
       "     AB/PD                                                           LP                                                           PY                                                     Synapses                                                      Q10 gbar                                                               \n",
       "        Na    CaT    CaS       A     KCa      Kd      H   Leak       Na    CaT    CaS       A    KCa       Kd      H   Leak       Na    CaT    CaS       A    KCa       Kd      H   Leak    AB-LP    PD-LP   AB-PY    PD-PY    LP-PD    LP-PY    PY-LP       Na    CaT    CaS      A    KCa     Kd      H   Leak   Glut   Chol\n",
       "0 458.7803 0.7269 5.6700 32.4157 13.6989 90.7140 0.0024 0.0027 138.5559 1.1557 2.8209 44.1501 6.1972 100.9982 0.0440 0.0210 564.8376 2.4631 3.0317 33.4177 3.7200 120.6760 0.0477 0.0278 -12.5681 -16.8734 -8.3747 -18.1356 -16.2665 -13.3063 -18.0895   1.1701 1.5530 1.3270 1.7248 1.3561 1.3695 1.8486 1.3875 1.1408 1.4006"
      ]
     },
     "execution_count": 100,
     "metadata": {},
     "output_type": "execute_result"
    }
   ],
   "source": [
    "customization = {\n",
    "    \"Q10_gbar_mem\": [True, True, True, True, True, True, True, True],\n",
    "    \"Q10_gbar_syn\": [True, True]\n",
    "}\n",
    "\n",
    "prior = create_prior(customization=customization)\n",
    "_ = torch.manual_seed(2)\n",
    "p = prior.sample((1,))\n",
    "p"
   ]
  },
  {
   "cell_type": "markdown",
   "metadata": {},
   "source": [
    "### Simulate them at 10 and 26 degree\n",
    "The trace at 10 degree is identical because it is the reference temperature at which $Q_{10}$ values do not play a role. The activity is slightly different at 26 degree though."
   ]
  },
  {
   "cell_type": "code",
   "execution_count": 101,
   "metadata": {},
   "outputs": [],
   "source": [
    "simulation_output = [simulate(p.loc[0], temperature=temp, customization=customization, seed=0) for temp in [283, 299]]"
   ]
  },
  {
   "cell_type": "code",
   "execution_count": 102,
   "metadata": {},
   "outputs": [
    {
     "data": {
      "image/png": "[encoded data removed]",
      "text/plain": [
       "<Figure size 432x216 with 3 Axes>"
      ]
     },
     "metadata": {
      "needs_background": "light"
     },
     "output_type": "display_data"
    },
    {
     "data": {
      "image/png": "[encoded data removed]",
      "text/plain": [
       "<Figure size 432x216 with 3 Axes>"
      ]
     },
     "metadata": {
      "needs_background": "light"
     },
     "output_type": "display_data"
    }
   ],
   "source": [
    "for sim_ in simulation_output:\n",
    "    _ = show_traces(sim_)"
   ]
  }
 ],
 "metadata": {
  "kernelspec": {
   "display_name": "sbi_prinz",
   "language": "python",
   "name": "sbi_prinz"
  },
  "language_info": {
   "codemirror_mode": {
    "name": "ipython",
    "version": 3
   },
   "file_extension": ".py",
   "mimetype": "text/x-python",
   "name": "python",
   "nbconvert_exporter": "python",
   "pygments_lexer": "ipython3",
   "version": "3.8.5"
  }
 },
 "nbformat": 4,
 "nbformat_minor": 4
}
