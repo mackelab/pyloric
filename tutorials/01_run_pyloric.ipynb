{
 "cells": [
  {
   "cell_type": "markdown",
   "metadata": {},
   "source": [
    "## Running simulations with `pyloric`"
   ]
  },
  {
   "cell_type": "code",
   "execution_count": 8,
   "metadata": {},
   "outputs": [],
   "source": [
    "# %load ../pyloric/utils/pandas_setup.py\n",
    "import pandas as pd\n",
    "\n",
    "pd.set_option(\"display.max_rows\", 10)\n",
    "pd.set_option(\"display.max_columns\", 100)\n",
    "pd.set_option(\"display.width\", 2000)\n",
    "pd.set_option(\"display.float_format\", \"{:,.4f}\".format)"
   ]
  },
  {
   "cell_type": "code",
   "execution_count": 3,
   "metadata": {},
   "outputs": [],
   "source": [
    "from pyloric import create_prior, simulate, stats\n",
    "from pyloric.utils import show_traces\n",
    "import torch"
   ]
  },
  {
   "cell_type": "markdown",
   "metadata": {},
   "source": [
    "### Obtain parameter sets"
   ]
  },
  {
   "cell_type": "code",
   "execution_count": 6,
   "metadata": {},
   "outputs": [],
   "source": [
    "_ = torch.manual_seed(0)"
   ]
  },
  {
   "cell_type": "code",
   "execution_count": 4,
   "metadata": {},
   "outputs": [
    {
     "data": {
      "text/html": [
       "<div>\n",
       "<style scoped>\n",
       "    .dataframe tbody tr th:only-of-type {\n",
       "        vertical-align: middle;\n",
       "    }\n",
       "\n",
       "    .dataframe tbody tr th {\n",
       "        vertical-align: top;\n",
       "    }\n",
       "\n",
       "    .dataframe thead tr th {\n",
       "        text-align: left;\n",
       "    }\n",
       "</style>\n",
       "<table border=\"1\" class=\"dataframe\">\n",
       "  <thead>\n",
       "    <tr>\n",
       "      <th></th>\n",
       "      <th colspan=\"8\" halign=\"left\">AB/PD</th>\n",
       "      <th colspan=\"8\" halign=\"left\">LP</th>\n",
       "      <th colspan=\"8\" halign=\"left\">PY</th>\n",
       "      <th colspan=\"7\" halign=\"left\">Synapses</th>\n",
       "    </tr>\n",
       "    <tr>\n",
       "      <th></th>\n",
       "      <th>Na</th>\n",
       "      <th>CaT</th>\n",
       "      <th>CaS</th>\n",
       "      <th>A</th>\n",
       "      <th>KCa</th>\n",
       "      <th>Kd</th>\n",
       "      <th>H</th>\n",
       "      <th>Leak</th>\n",
       "      <th>Na</th>\n",
       "      <th>CaT</th>\n",
       "      <th>CaS</th>\n",
       "      <th>A</th>\n",
       "      <th>KCa</th>\n",
       "      <th>Kd</th>\n",
       "      <th>H</th>\n",
       "      <th>Leak</th>\n",
       "      <th>Na</th>\n",
       "      <th>CaT</th>\n",
       "      <th>CaS</th>\n",
       "      <th>A</th>\n",
       "      <th>KCa</th>\n",
       "      <th>Kd</th>\n",
       "      <th>H</th>\n",
       "      <th>Leak</th>\n",
       "      <th>AB-LP</th>\n",
       "      <th>PD-LP</th>\n",
       "      <th>AB-PY</th>\n",
       "      <th>PD-PY</th>\n",
       "      <th>LP-PD</th>\n",
       "      <th>LP-PY</th>\n",
       "      <th>PY-LP</th>\n",
       "    </tr>\n",
       "  </thead>\n",
       "  <tbody>\n",
       "    <tr>\n",
       "      <th>0</th>\n",
       "      <td>0.3046</td>\n",
       "      <td>0.0033</td>\n",
       "      <td>0.0023</td>\n",
       "      <td>0.0347</td>\n",
       "      <td>0.0061</td>\n",
       "      <td>0.0778</td>\n",
       "      <td>0.0000</td>\n",
       "      <td>0.0000</td>\n",
       "      <td>0.0730</td>\n",
       "      <td>0.0005</td>\n",
       "      <td>0.0041</td>\n",
       "      <td>0.0118</td>\n",
       "      <td>0.0022</td>\n",
       "      <td>0.0488</td>\n",
       "      <td>0.0000</td>\n",
       "      <td>0.0000</td>\n",
       "      <td>0.1535</td>\n",
       "      <td>0.0016</td>\n",
       "      <td>0.0017</td>\n",
       "      <td>0.0336</td>\n",
       "      <td>0.0007</td>\n",
       "      <td>0.0739</td>\n",
       "      <td>0.0000</td>\n",
       "      <td>0.0000</td>\n",
       "      <td>-15.2981</td>\n",
       "      <td>-11.9937</td>\n",
       "      <td>-11.6565</td>\n",
       "      <td>-10.5695</td>\n",
       "      <td>-9.8392</td>\n",
       "      <td>-15.7997</td>\n",
       "      <td>-9.0965</td>\n",
       "    </tr>\n",
       "    <tr>\n",
       "      <th>1</th>\n",
       "      <td>0.1980</td>\n",
       "      <td>0.0009</td>\n",
       "      <td>0.0008</td>\n",
       "      <td>0.0181</td>\n",
       "      <td>0.0086</td>\n",
       "      <td>0.0606</td>\n",
       "      <td>0.0000</td>\n",
       "      <td>0.0000</td>\n",
       "      <td>0.0462</td>\n",
       "      <td>0.0004</td>\n",
       "      <td>0.0015</td>\n",
       "      <td>0.0298</td>\n",
       "      <td>0.0021</td>\n",
       "      <td>0.0423</td>\n",
       "      <td>0.0000</td>\n",
       "      <td>0.0000</td>\n",
       "      <td>0.0155</td>\n",
       "      <td>0.0078</td>\n",
       "      <td>0.0022</td>\n",
       "      <td>0.0332</td>\n",
       "      <td>0.0008</td>\n",
       "      <td>0.0433</td>\n",
       "      <td>0.0000</td>\n",
       "      <td>0.0000</td>\n",
       "      <td>-13.4211</td>\n",
       "      <td>-11.9062</td>\n",
       "      <td>-9.8873</td>\n",
       "      <td>-18.3693</td>\n",
       "      <td>-11.7017</td>\n",
       "      <td>-11.8616</td>\n",
       "      <td>-17.8648</td>\n",
       "    </tr>\n",
       "  </tbody>\n",
       "</table>\n",
       "</div>"
      ],
      "text/plain": [
       "   AB/PD                                                      LP                                                      PY                                                  Synapses                                                      \n",
       "      Na    CaT    CaS      A    KCa     Kd      H   Leak     Na    CaT    CaS      A    KCa     Kd      H   Leak     Na    CaT    CaS      A    KCa     Kd      H   Leak    AB-LP    PD-LP    AB-PY    PD-PY    LP-PD    LP-PY    PY-LP\n",
       "0 0.3046 0.0033 0.0023 0.0347 0.0061 0.0778 0.0000 0.0000 0.0730 0.0005 0.0041 0.0118 0.0022 0.0488 0.0000 0.0000 0.1535 0.0016 0.0017 0.0336 0.0007 0.0739 0.0000 0.0000 -15.2981 -11.9937 -11.6565 -10.5695  -9.8392 -15.7997  -9.0965\n",
       "1 0.1980 0.0009 0.0008 0.0181 0.0086 0.0606 0.0000 0.0000 0.0462 0.0004 0.0015 0.0298 0.0021 0.0423 0.0000 0.0000 0.0155 0.0078 0.0022 0.0332 0.0008 0.0433 0.0000 0.0000 -13.4211 -11.9062  -9.8873 -18.3693 -11.7017 -11.8616 -17.8648"
      ]
     },
     "execution_count": 4,
     "metadata": {},
     "output_type": "execute_result"
    }
   ],
   "source": [
    "prior = create_prior()\n",
    "p = prior.sample((2,))\n",
    "p"
   ]
  },
  {
   "cell_type": "markdown",
   "metadata": {},
   "source": [
    "### Simulate them and plot the traces"
   ]
  },
  {
   "cell_type": "code",
   "execution_count": 5,
   "metadata": {},
   "outputs": [],
   "source": [
    "sim_outputs = [simulate(param_set, seed=0) for param_set in p.to_numpy()]"
   ]
  },
  {
   "cell_type": "code",
   "execution_count": 6,
   "metadata": {},
   "outputs": [
    {
     "data": {
      "image/png": "[encoded data removed]",
      "text/plain": [
       "<Figure size 432x216 with 3 Axes>"
      ]
     },
     "metadata": {
      "needs_background": "light"
     },
     "output_type": "display_data"
    },
    {
     "data": {
      "image/png": "[encoded data removed]",
      "text/plain": [
       "<Figure size 432x216 with 3 Axes>"
      ]
     },
     "metadata": {
      "needs_background": "light"
     },
     "output_type": "display_data"
    }
   ],
   "source": [
    "for sim_ in sim_outputs:\n",
    "    _ = show_traces(sim_)"
   ]
  },
  {
   "cell_type": "markdown",
   "metadata": {},
   "source": [
    "### Compute summary statistics"
   ]
  },
  {
   "cell_type": "code",
   "execution_count": 7,
   "metadata": {},
   "outputs": [
    {
     "data": {
      "text/html": [
       "<div>\n",
       "<style scoped>\n",
       "    .dataframe tbody tr th:only-of-type {\n",
       "        vertical-align: middle;\n",
       "    }\n",
       "\n",
       "    .dataframe tbody tr th {\n",
       "        vertical-align: top;\n",
       "    }\n",
       "\n",
       "    .dataframe thead tr th {\n",
       "        text-align: left;\n",
       "    }\n",
       "</style>\n",
       "<table border=\"1\" class=\"dataframe\">\n",
       "  <thead>\n",
       "    <tr>\n",
       "      <th></th>\n",
       "      <th>cycle_period</th>\n",
       "      <th colspan=\"3\" halign=\"left\">burst_durations</th>\n",
       "      <th colspan=\"3\" halign=\"left\">duty_cycles</th>\n",
       "      <th colspan=\"2\" halign=\"left\">start_phases</th>\n",
       "      <th colspan=\"2\" halign=\"left\">starts_to_starts</th>\n",
       "      <th colspan=\"2\" halign=\"left\">ends_to_starts</th>\n",
       "      <th colspan=\"2\" halign=\"left\">phase_gaps</th>\n",
       "    </tr>\n",
       "    <tr>\n",
       "      <th></th>\n",
       "      <th>Circuit</th>\n",
       "      <th>PM</th>\n",
       "      <th>LP</th>\n",
       "      <th>PY</th>\n",
       "      <th>PM</th>\n",
       "      <th>LP</th>\n",
       "      <th>PY</th>\n",
       "      <th>LP</th>\n",
       "      <th>PY</th>\n",
       "      <th>AB/PD-LP</th>\n",
       "      <th>LP-PY</th>\n",
       "      <th>AB/PD-LP</th>\n",
       "      <th>LP-PY</th>\n",
       "      <th>AB/PD-LP</th>\n",
       "      <th>LP-PY</th>\n",
       "    </tr>\n",
       "  </thead>\n",
       "  <tbody>\n",
       "    <tr>\n",
       "      <th>0</th>\n",
       "      <td>1,275.5107</td>\n",
       "      <td>180.5469</td>\n",
       "      <td>433.2531</td>\n",
       "      <td>279.2781</td>\n",
       "      <td>0.1415</td>\n",
       "      <td>0.3397</td>\n",
       "      <td>0.2190</td>\n",
       "      <td>nan</td>\n",
       "      <td>nan</td>\n",
       "      <td>nan</td>\n",
       "      <td>nan</td>\n",
       "      <td>nan</td>\n",
       "      <td>nan</td>\n",
       "      <td>nan</td>\n",
       "      <td>nan</td>\n",
       "    </tr>\n",
       "    <tr>\n",
       "      <th>1</th>\n",
       "      <td>2,439.0125</td>\n",
       "      <td>70.8833</td>\n",
       "      <td>nan</td>\n",
       "      <td>nan</td>\n",
       "      <td>0.0291</td>\n",
       "      <td>nan</td>\n",
       "      <td>nan</td>\n",
       "      <td>nan</td>\n",
       "      <td>nan</td>\n",
       "      <td>nan</td>\n",
       "      <td>nan</td>\n",
       "      <td>nan</td>\n",
       "      <td>nan</td>\n",
       "      <td>nan</td>\n",
       "      <td>nan</td>\n",
       "    </tr>\n",
       "  </tbody>\n",
       "</table>\n",
       "</div>"
      ],
      "text/plain": [
       "  cycle_period burst_durations                   duty_cycles               start_phases     starts_to_starts       ends_to_starts       phase_gaps      \n",
       "       Circuit              PM       LP       PY          PM     LP     PY           LP  PY         AB/PD-LP LP-PY       AB/PD-LP LP-PY   AB/PD-LP LP-PY\n",
       "0   1,275.5107        180.5469 433.2531 279.2781      0.1415 0.3397 0.2190          nan nan              nan   nan            nan   nan        nan   nan\n",
       "1   2,439.0125         70.8833      nan      nan      0.0291    nan    nan          nan nan              nan   nan            nan   nan        nan   nan"
      ]
     },
     "execution_count": 7,
     "metadata": {},
     "output_type": "execute_result"
    }
   ],
   "source": [
    "summstats = pd.concat([stats(sim_) for sim_ in sim_outputs], ignore_index=True)\n",
    "summstats"
   ]
  }
 ],
 "metadata": {
  "kernelspec": {
   "display_name": "sbi_prinz",
   "language": "python",
   "name": "sbi_prinz"
  },
  "language_info": {
   "codemirror_mode": {
    "name": "ipython",
    "version": 3
   },
   "file_extension": ".py",
   "mimetype": "text/x-python",
   "name": "python",
   "nbconvert_exporter": "python",
   "pygments_lexer": "ipython3",
   "version": "3.8.5"
  }
 },
 "nbformat": 4,
 "nbformat_minor": 4
}
